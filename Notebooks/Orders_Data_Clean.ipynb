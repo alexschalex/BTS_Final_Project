{
 "cells": [
  {
   "cell_type": "markdown",
   "metadata": {},
   "source": [
    "# Orders Cleaning:"
   ]
  },
  {
   "cell_type": "markdown",
   "metadata": {},
   "source": [
    "**Scope of this notebook:**\n",
    "<br>\n",
    "To deal with the null values and feature engineering in order to conduct a proper EDA on the orders."
   ]
  },
  {
   "cell_type": "code",
   "execution_count": 1,
   "metadata": {},
   "outputs": [
    {
     "name": "stderr",
     "output_type": "stream",
     "text": [
      "/Users/laurencewilliams/anaconda3/envs/bts36/lib/python3.6/site-packages/statsmodels/tools/_testing.py:19: FutureWarning: pandas.util.testing is deprecated. Use the functions in the public API at pandas.testing instead.\n",
      "  import pandas.util.testing as tm\n"
     ]
    }
   ],
   "source": [
    "import pandas as pd\n",
    "import pandas as pd\n",
    "import matplotlib.pyplot as plt\n",
    "%matplotlib inline\n",
    "import seaborn as sns\n",
    "import requests"
   ]
  },
  {
   "cell_type": "code",
   "execution_count": 8,
   "metadata": {},
   "outputs": [
    {
     "name": "stdout",
     "output_type": "stream",
     "text": [
      "Appointment_Data_Clean.ipynb       Nigeria Blood Donations.ipynb\r\n",
      "Blood_Donations_update_time.ipynb  Orders_Data_Clean.ipynb\r\n",
      "Merge_Donors_Appointments.ipynb    Read_Me.md\r\n",
      "Merged - Rough notebook.ipynb      orders_updated_29_03.csv\r\n"
     ]
    }
   ],
   "source": [
    "ls"
   ]
  },
  {
   "cell_type": "code",
   "execution_count": null,
   "metadata": {},
   "outputs": [],
   "source": []
  },
  {
   "cell_type": "code",
   "execution_count": null,
   "metadata": {},
   "outputs": [],
   "source": []
  },
  {
   "cell_type": "code",
   "execution_count": null,
   "metadata": {},
   "outputs": [],
   "source": []
  },
  {
   "cell_type": "code",
   "execution_count": 2,
   "metadata": {},
   "outputs": [
    {
     "data": {
      "text/plain": [
       "'/Users/laurencewilliams/BTS/Blood_Project/Data_Cleaning_Notebook:Scripts'"
      ]
     },
     "execution_count": 2,
     "metadata": {},
     "output_type": "execute_result"
    }
   ],
   "source": [
    "pwd"
   ]
  },
  {
   "cell_type": "code",
   "execution_count": 3,
   "metadata": {},
   "outputs": [],
   "source": [
    "orders = pd.read_excel('/Users/laurencewilliams/BTS/Final_Project/GitHub_Repo_Files/orders.xlsx')"
   ]
  },
  {
   "cell_type": "code",
   "execution_count": 10,
   "metadata": {},
   "outputs": [],
   "source": [
    "appt = pd.read_excel('/Users/laurencewilliams/BTS/Final_Project/GitHub_Repo_Files/donors.xlsx')\n",
    "donors = pd.read_excel('/Users/laurencewilliams/BTS/Final_Project/GitHub_Repo_Files/donor_appointment .xlsx')"
   ]
  },
  {
   "cell_type": "code",
   "execution_count": 16,
   "metadata": {},
   "outputs": [
    {
     "data": {
      "text/plain": [
       "Appointment ID         0\n",
       "Appointment Date      14\n",
       "Time                 294\n",
       "Blood Bank/Center    490\n",
       "Donor ID               0\n",
       "City/Event           889\n",
       "dtype: int64"
      ]
     },
     "execution_count": 16,
     "metadata": {},
     "output_type": "execute_result"
    }
   ],
   "source": [
    "donors.isnull().sum()"
   ]
  },
  {
   "cell_type": "code",
   "execution_count": 17,
   "metadata": {},
   "outputs": [
    {
     "data": {
      "text/plain": [
       "(1519, 6)"
      ]
     },
     "execution_count": 17,
     "metadata": {},
     "output_type": "execute_result"
    }
   ],
   "source": [
    "donors.shape"
   ]
  },
  {
   "cell_type": "markdown",
   "metadata": {},
   "source": [
    "### Part I: Decision on which ones to drop:"
   ]
  },
  {
   "cell_type": "code",
   "execution_count": 5,
   "metadata": {},
   "outputs": [
    {
     "name": "stdout",
     "output_type": "stream",
     "text": [
      "number of rows: 7146\n"
     ]
    }
   ],
   "source": [
    "print(\"number of rows:\", orders.shape[0])"
   ]
  },
  {
   "cell_type": "code",
   "execution_count": 6,
   "metadata": {},
   "outputs": [
    {
     "data": {
      "text/plain": [
       "Order ID                     0\n",
       "Blood Type                   1\n",
       "Geno Type                 6259\n",
       "Blood                     6245\n",
       "Hospital ID                  0\n",
       "BloodBank ID                 0\n",
       "Unix Time                    0\n",
       "Cross Matching            1272\n",
       "QTY                          0\n",
       "Agent  ID                 6251\n",
       "Dispatch ID                552\n",
       "Address                      0\n",
       "State                        1\n",
       "End Point Geo-location    1773\n",
       "dtype: int64"
      ]
     },
     "execution_count": 6,
     "metadata": {},
     "output_type": "execute_result"
    }
   ],
   "source": [
    "orders.isnull().sum()"
   ]
  },
  {
   "cell_type": "code",
   "execution_count": 7,
   "metadata": {},
   "outputs": [
    {
     "name": "stdout",
     "output_type": "stream",
     "text": [
      "Percentage null out of total per variable:\n",
      "\n",
      "Order ID: 0.0%\n",
      "Blood Type: 0.01%\n",
      "Geno Type: 87.59%\n",
      "Blood: 87.39%\n",
      "Hospital ID: 0.0%\n",
      "BloodBank ID: 0.0%\n",
      "Unix Time: 0.0%\n",
      "Cross Matching: 17.8%\n",
      "QTY: 0.0%\n",
      "Agent  ID: 87.48%\n",
      "Dispatch ID: 7.72%\n",
      "Address : 0.0%\n",
      "State: 0.01%\n",
      "End Point Geo-location: 24.81%\n"
     ]
    }
   ],
   "source": [
    "print(\"Percentage null out of total per variable:\")\n",
    "print(\"\")\n",
    "for i in orders.columns:\n",
    "    print(f\"{i}: {round(orders[i].isnull().sum()/orders.shape[0]*100, 2)}%\")"
   ]
  },
  {
   "cell_type": "code",
   "execution_count": 8,
   "metadata": {},
   "outputs": [],
   "source": [
    "a = pd.DataFrame()\n",
    "a['Variables'] = orders.columns\n",
    "a['Total_observations'] = orders.shape[0]\n",
    "a['Total_null'] = [orders[i].isnull().sum() for i in orders.columns]\n",
    "a['Percentage_of_null'] = [str(round(orders[i].isnull().sum()/orders.shape[0]*100, 2))+'%' for i in orders.columns]"
   ]
  },
  {
   "cell_type": "code",
   "execution_count": 9,
   "metadata": {},
   "outputs": [
    {
     "data": {
      "text/html": [
       "<div>\n",
       "<style scoped>\n",
       "    .dataframe tbody tr th:only-of-type {\n",
       "        vertical-align: middle;\n",
       "    }\n",
       "\n",
       "    .dataframe tbody tr th {\n",
       "        vertical-align: top;\n",
       "    }\n",
       "\n",
       "    .dataframe thead th {\n",
       "        text-align: right;\n",
       "    }\n",
       "</style>\n",
       "<table border=\"1\" class=\"dataframe\">\n",
       "  <thead>\n",
       "    <tr style=\"text-align: right;\">\n",
       "      <th></th>\n",
       "      <th>Variables</th>\n",
       "      <th>Total_observations</th>\n",
       "      <th>Total_null</th>\n",
       "      <th>Percentage_of_null</th>\n",
       "    </tr>\n",
       "  </thead>\n",
       "  <tbody>\n",
       "    <tr>\n",
       "      <td>0</td>\n",
       "      <td>Order ID</td>\n",
       "      <td>7146</td>\n",
       "      <td>0</td>\n",
       "      <td>0.0%</td>\n",
       "    </tr>\n",
       "    <tr>\n",
       "      <td>1</td>\n",
       "      <td>Blood Type</td>\n",
       "      <td>7146</td>\n",
       "      <td>1</td>\n",
       "      <td>0.01%</td>\n",
       "    </tr>\n",
       "    <tr>\n",
       "      <td>2</td>\n",
       "      <td>Geno Type</td>\n",
       "      <td>7146</td>\n",
       "      <td>6259</td>\n",
       "      <td>87.59%</td>\n",
       "    </tr>\n",
       "    <tr>\n",
       "      <td>3</td>\n",
       "      <td>Blood</td>\n",
       "      <td>7146</td>\n",
       "      <td>6245</td>\n",
       "      <td>87.39%</td>\n",
       "    </tr>\n",
       "    <tr>\n",
       "      <td>4</td>\n",
       "      <td>Hospital ID</td>\n",
       "      <td>7146</td>\n",
       "      <td>0</td>\n",
       "      <td>0.0%</td>\n",
       "    </tr>\n",
       "    <tr>\n",
       "      <td>5</td>\n",
       "      <td>BloodBank ID</td>\n",
       "      <td>7146</td>\n",
       "      <td>0</td>\n",
       "      <td>0.0%</td>\n",
       "    </tr>\n",
       "    <tr>\n",
       "      <td>6</td>\n",
       "      <td>Unix Time</td>\n",
       "      <td>7146</td>\n",
       "      <td>0</td>\n",
       "      <td>0.0%</td>\n",
       "    </tr>\n",
       "    <tr>\n",
       "      <td>7</td>\n",
       "      <td>Cross Matching</td>\n",
       "      <td>7146</td>\n",
       "      <td>1272</td>\n",
       "      <td>17.8%</td>\n",
       "    </tr>\n",
       "    <tr>\n",
       "      <td>8</td>\n",
       "      <td>QTY</td>\n",
       "      <td>7146</td>\n",
       "      <td>0</td>\n",
       "      <td>0.0%</td>\n",
       "    </tr>\n",
       "    <tr>\n",
       "      <td>9</td>\n",
       "      <td>Agent  ID</td>\n",
       "      <td>7146</td>\n",
       "      <td>6251</td>\n",
       "      <td>87.48%</td>\n",
       "    </tr>\n",
       "    <tr>\n",
       "      <td>10</td>\n",
       "      <td>Dispatch ID</td>\n",
       "      <td>7146</td>\n",
       "      <td>552</td>\n",
       "      <td>7.72%</td>\n",
       "    </tr>\n",
       "    <tr>\n",
       "      <td>11</td>\n",
       "      <td>Address</td>\n",
       "      <td>7146</td>\n",
       "      <td>0</td>\n",
       "      <td>0.0%</td>\n",
       "    </tr>\n",
       "    <tr>\n",
       "      <td>12</td>\n",
       "      <td>State</td>\n",
       "      <td>7146</td>\n",
       "      <td>1</td>\n",
       "      <td>0.01%</td>\n",
       "    </tr>\n",
       "    <tr>\n",
       "      <td>13</td>\n",
       "      <td>End Point Geo-location</td>\n",
       "      <td>7146</td>\n",
       "      <td>1773</td>\n",
       "      <td>24.81%</td>\n",
       "    </tr>\n",
       "  </tbody>\n",
       "</table>\n",
       "</div>"
      ],
      "text/plain": [
       "                 Variables  Total_observations  Total_null Percentage_of_null\n",
       "0                 Order ID                7146           0               0.0%\n",
       "1               Blood Type                7146           1              0.01%\n",
       "2                Geno Type                7146        6259             87.59%\n",
       "3                    Blood                7146        6245             87.39%\n",
       "4              Hospital ID                7146           0               0.0%\n",
       "5             BloodBank ID                7146           0               0.0%\n",
       "6                Unix Time                7146           0               0.0%\n",
       "7           Cross Matching                7146        1272              17.8%\n",
       "8                      QTY                7146           0               0.0%\n",
       "9                Agent  ID                7146        6251             87.48%\n",
       "10             Dispatch ID                7146         552              7.72%\n",
       "11                Address                 7146           0               0.0%\n",
       "12                   State                7146           1              0.01%\n",
       "13  End Point Geo-location                7146        1773             24.81%"
      ]
     },
     "execution_count": 9,
     "metadata": {},
     "output_type": "execute_result"
    }
   ],
   "source": [
    "a"
   ]
  },
  {
   "cell_type": "markdown",
   "metadata": {},
   "source": [
    "Decision to drop:\n",
    "   * Geno Type\n",
    "   * Blood\n",
    "   * Agent ID"
   ]
  },
  {
   "cell_type": "code",
   "execution_count": 10,
   "metadata": {},
   "outputs": [],
   "source": [
    "orders = orders.drop(['Geno Type'], axis = 1)\n",
    "orders = orders.drop(['Blood'], axis =1)\n",
    "orders = orders.drop(['Agent  ID'], axis =1)"
   ]
  },
  {
   "cell_type": "code",
   "execution_count": 11,
   "metadata": {},
   "outputs": [
    {
     "data": {
      "text/plain": [
       "Index(['Order ID', 'Blood Type', 'Hospital ID', 'BloodBank ID', 'Unix Time',\n",
       "       'Cross Matching', 'QTY', 'Dispatch ID', 'Address ', 'State',\n",
       "       'End Point Geo-location'],\n",
       "      dtype='object')"
      ]
     },
     "execution_count": 11,
     "metadata": {},
     "output_type": "execute_result"
    }
   ],
   "source": [
    "orders.columns"
   ]
  },
  {
   "cell_type": "markdown",
   "metadata": {},
   "source": [
    "### Part II: Feature Engineering"
   ]
  },
  {
   "cell_type": "code",
   "execution_count": 12,
   "metadata": {},
   "outputs": [
    {
     "data": {
      "text/plain": [
       "Order ID                     0\n",
       "Blood Type                   1\n",
       "Hospital ID                  0\n",
       "BloodBank ID                 0\n",
       "Unix Time                    0\n",
       "Cross Matching            1272\n",
       "QTY                          0\n",
       "Dispatch ID                552\n",
       "Address                      0\n",
       "State                        1\n",
       "End Point Geo-location    1773\n",
       "dtype: int64"
      ]
     },
     "execution_count": 12,
     "metadata": {},
     "output_type": "execute_result"
    }
   ],
   "source": [
    "orders.isnull().sum()"
   ]
  },
  {
   "cell_type": "markdown",
   "metadata": {},
   "source": [
    "**1. Blood:**"
   ]
  },
  {
   "cell_type": "code",
   "execution_count": 13,
   "metadata": {},
   "outputs": [
    {
     "data": {
      "text/plain": [
       "Text(0.5, 1.0, 'Blood Count Plot')"
      ]
     },
     "execution_count": 13,
     "metadata": {},
     "output_type": "execute_result"
    },
    {
     "data": {
      "image/png": "[encoded data removed]",
      "text/plain": [
       "<Figure size 1152x576 with 1 Axes>"
      ]
     },
     "metadata": {
      "needs_background": "light"
     },
     "output_type": "display_data"
    }
   ],
   "source": [
    "fig, ax = plt.subplots(1, figsize = (16,8))\n",
    "sns.countplot(x = 'Blood Type', data = orders, color = 'Indigo', ax = ax)\n",
    "ax.set_title('Blood Count Plot')"
   ]
  },
  {
   "cell_type": "code",
   "execution_count": 14,
   "metadata": {},
   "outputs": [
    {
     "data": {
      "text/plain": [
       "array(['B+', 'O+', 'O-', 'AB+', 'B-', 'A+', 'A-', 'Care Pack', 'rocephin',\n",
       "       nan], dtype=object)"
      ]
     },
     "execution_count": 14,
     "metadata": {},
     "output_type": "execute_result"
    }
   ],
   "source": [
    "orders['Blood Type'].unique()"
   ]
  },
  {
   "cell_type": "markdown",
   "metadata": {},
   "source": [
    "As only one missing value missing, will replace it with the mode:"
   ]
  },
  {
   "cell_type": "code",
   "execution_count": 15,
   "metadata": {},
   "outputs": [],
   "source": [
    "orders.loc[(orders['Blood Type'].isnull()), 'Blood Type'] = 'O+'"
   ]
  },
  {
   "cell_type": "markdown",
   "metadata": {},
   "source": [
    "**2. State:**"
   ]
  },
  {
   "cell_type": "code",
   "execution_count": 16,
   "metadata": {},
   "outputs": [
    {
     "data": {
      "text/plain": [
       "Text(0.5, 1.0, 'State Count Plot')"
      ]
     },
     "execution_count": 16,
     "metadata": {},
     "output_type": "execute_result"
    },
    {
     "data": {
      "image/png": "[encoded data removed]",
      "text/plain": [
       "<Figure size 1152x576 with 1 Axes>"
      ]
     },
     "metadata": {
      "needs_background": "light"
     },
     "output_type": "display_data"
    }
   ],
   "source": [
    "fig, ax = plt.subplots(1, figsize = (16,8))\n",
    "sns.countplot(x = 'State', data = orders, color = 'Indigo', ax = ax)\n",
    "ax.set_title('State Count Plot')"
   ]
  },
  {
   "cell_type": "code",
   "execution_count": 17,
   "metadata": {},
   "outputs": [
    {
     "data": {
      "text/html": [
       "<div>\n",
       "<style scoped>\n",
       "    .dataframe tbody tr th:only-of-type {\n",
       "        vertical-align: middle;\n",
       "    }\n",
       "\n",
       "    .dataframe tbody tr th {\n",
       "        vertical-align: top;\n",
       "    }\n",
       "\n",
       "    .dataframe thead th {\n",
       "        text-align: right;\n",
       "    }\n",
       "</style>\n",
       "<table border=\"1\" class=\"dataframe\">\n",
       "  <thead>\n",
       "    <tr style=\"text-align: right;\">\n",
       "      <th></th>\n",
       "      <th>Order ID</th>\n",
       "      <th>Blood Type</th>\n",
       "      <th>Hospital ID</th>\n",
       "      <th>BloodBank ID</th>\n",
       "      <th>Unix Time</th>\n",
       "      <th>Cross Matching</th>\n",
       "      <th>QTY</th>\n",
       "      <th>Dispatch ID</th>\n",
       "      <th>Address</th>\n",
       "      <th>State</th>\n",
       "      <th>End Point Geo-location</th>\n",
       "    </tr>\n",
       "  </thead>\n",
       "  <tbody>\n",
       "    <tr>\n",
       "      <td>5226</td>\n",
       "      <td>6231</td>\n",
       "      <td>O-</td>\n",
       "      <td>7186423</td>\n",
       "      <td>1869734</td>\n",
       "      <td>1570718370</td>\n",
       "      <td>NaN</td>\n",
       "      <td>1</td>\n",
       "      <td>Monday</td>\n",
       "      <td>2 Oshofisan street, Off Ijesha Road, itire, Su...</td>\n",
       "      <td>NaN</td>\n",
       "      <td>NaN</td>\n",
       "    </tr>\n",
       "  </tbody>\n",
       "</table>\n",
       "</div>"
      ],
      "text/plain": [
       "      Order ID Blood Type  Hospital ID  BloodBank ID   Unix Time  \\\n",
       "5226      6231         O-      7186423       1869734  1570718370   \n",
       "\n",
       "     Cross Matching  QTY Dispatch ID  \\\n",
       "5226            NaN    1      Monday   \n",
       "\n",
       "                                               Address  State  \\\n",
       "5226  2 Oshofisan street, Off Ijesha Road, itire, Su...   NaN   \n",
       "\n",
       "     End Point Geo-location  \n",
       "5226                    NaN  "
      ]
     },
     "execution_count": 17,
     "metadata": {},
     "output_type": "execute_result"
    }
   ],
   "source": [
    "orders.loc[orders['State'].isnull()]"
   ]
  },
  {
   "cell_type": "code",
   "execution_count": 18,
   "metadata": {},
   "outputs": [
    {
     "data": {
      "text/plain": [
       "'2 Oshofisan street, Off Ijesha Road, itire, Surulere, Lagos.'"
      ]
     },
     "execution_count": 18,
     "metadata": {},
     "output_type": "execute_result"
    }
   ],
   "source": [
    "orders.loc[orders['State'].isnull()]['Address '].values[0]"
   ]
  },
  {
   "cell_type": "markdown",
   "metadata": {},
   "source": [
    "As the address is in Lagos, we will add this State as Lagos:"
   ]
  },
  {
   "cell_type": "code",
   "execution_count": 19,
   "metadata": {},
   "outputs": [],
   "source": [
    "orders.loc[(orders['State'].isnull()), 'State'] = 'Lagos'"
   ]
  },
  {
   "cell_type": "markdown",
   "metadata": {},
   "source": [
    "However, we can also see some errors with different syntax for Lagos. We will replace this with 'Lagos':"
   ]
  },
  {
   "cell_type": "code",
   "execution_count": 20,
   "metadata": {},
   "outputs": [
    {
     "data": {
      "text/plain": [
       "array(['Lagos', 'lagos', 'Abuja', 'LAGOS', 'Rivers'], dtype=object)"
      ]
     },
     "execution_count": 20,
     "metadata": {},
     "output_type": "execute_result"
    }
   ],
   "source": [
    "orders['State'].unique()\n",
    "#Note: 'Rivers' is a State in Nigeria"
   ]
  },
  {
   "cell_type": "code",
   "execution_count": 21,
   "metadata": {},
   "outputs": [],
   "source": [
    "orders.loc[(orders['State'] == 'lagos'), 'State'] = 'Lagos'\n",
    "orders.loc[(orders['State'] == 'LAGOS'), 'State'] = 'Lagos'"
   ]
  },
  {
   "cell_type": "markdown",
   "metadata": {},
   "source": [
    "**3. Dispatch ID:**"
   ]
  },
  {
   "cell_type": "code",
   "execution_count": 22,
   "metadata": {},
   "outputs": [
    {
     "data": {
      "text/plain": [
       "array([nan, 'bike3', 'bike2', 'bike1', 'bike4', 'ABJ01', 'ABJ02', 'ABJ03',\n",
       "       'bike5', 'Mohammed', 'bike6', 'bike7', 'Monday', 'bike9', 'bike10',\n",
       "       'bike8', 'Michael', 'bike11', 'ph001', 'bike12'], dtype=object)"
      ]
     },
     "execution_count": 22,
     "metadata": {},
     "output_type": "execute_result"
    }
   ],
   "source": [
    "orders['Dispatch ID'].unique()"
   ]
  },
  {
   "cell_type": "raw",
   "metadata": {},
   "source": [
    "System has changed over time.\n",
    "Now we have switched to ID to them, in Lagos we are running on bike1, bike2\n",
    "Even if I delivery by boat, if initial by bike, then\n",
    "If in Lagos, then by bike;\n",
    "PH: river state;\n",
    "ABJ: state id;\n",
    "Monday: state id;\n",
    "\n",
    "Drone: not integrated into system yet, once it is integrated in system then we will assign it an ID;"
   ]
  },
  {
   "cell_type": "code",
   "execution_count": 23,
   "metadata": {},
   "outputs": [
    {
     "data": {
      "text/html": [
       "<div>\n",
       "<style scoped>\n",
       "    .dataframe tbody tr th:only-of-type {\n",
       "        vertical-align: middle;\n",
       "    }\n",
       "\n",
       "    .dataframe tbody tr th {\n",
       "        vertical-align: top;\n",
       "    }\n",
       "\n",
       "    .dataframe thead th {\n",
       "        text-align: right;\n",
       "    }\n",
       "</style>\n",
       "<table border=\"1\" class=\"dataframe\">\n",
       "  <thead>\n",
       "    <tr style=\"text-align: right;\">\n",
       "      <th></th>\n",
       "      <th>Order ID</th>\n",
       "      <th>Blood Type</th>\n",
       "      <th>Hospital ID</th>\n",
       "      <th>BloodBank ID</th>\n",
       "      <th>Unix Time</th>\n",
       "      <th>Cross Matching</th>\n",
       "      <th>QTY</th>\n",
       "      <th>Dispatch ID</th>\n",
       "      <th>Address</th>\n",
       "      <th>State</th>\n",
       "      <th>End Point Geo-location</th>\n",
       "    </tr>\n",
       "  </thead>\n",
       "  <tbody>\n",
       "    <tr>\n",
       "      <td>2181</td>\n",
       "      <td>2628</td>\n",
       "      <td>O-</td>\n",
       "      <td>3526018</td>\n",
       "      <td>8796015</td>\n",
       "      <td>1541681655</td>\n",
       "      <td>Yes</td>\n",
       "      <td>1</td>\n",
       "      <td>ABJ01</td>\n",
       "      <td>Plot 1847, Constitution Avenue, Behind ICPC/ND...</td>\n",
       "      <td>Abuja</td>\n",
       "      <td>9.0429923,7.467967</td>\n",
       "    </tr>\n",
       "    <tr>\n",
       "      <td>2255</td>\n",
       "      <td>2708</td>\n",
       "      <td>A+</td>\n",
       "      <td>1439607</td>\n",
       "      <td>1628739</td>\n",
       "      <td>1542874550</td>\n",
       "      <td>Yes</td>\n",
       "      <td>1</td>\n",
       "      <td>ABJ01</td>\n",
       "      <td>5, Juba Street, Zone 6 Wuse, Abuja</td>\n",
       "      <td>Abuja</td>\n",
       "      <td>NaN</td>\n",
       "    </tr>\n",
       "    <tr>\n",
       "      <td>2350</td>\n",
       "      <td>2807</td>\n",
       "      <td>O+</td>\n",
       "      <td>6071982</td>\n",
       "      <td>1628739</td>\n",
       "      <td>1544274051</td>\n",
       "      <td>Yes</td>\n",
       "      <td>1</td>\n",
       "      <td>ABJ01</td>\n",
       "      <td>6 Djibouti Street, off Freetown Street, Wuse I...</td>\n",
       "      <td>Abuja</td>\n",
       "      <td>9.0741669,7.4865957</td>\n",
       "    </tr>\n",
       "    <tr>\n",
       "      <td>2384</td>\n",
       "      <td>2843</td>\n",
       "      <td>O-</td>\n",
       "      <td>4253019</td>\n",
       "      <td>6459238</td>\n",
       "      <td>1544786480</td>\n",
       "      <td>Yes</td>\n",
       "      <td>1</td>\n",
       "      <td>ABJ01</td>\n",
       "      <td>CBN Road, FHA Lugbe Abuja</td>\n",
       "      <td>Abuja</td>\n",
       "      <td>NaN</td>\n",
       "    </tr>\n",
       "    <tr>\n",
       "      <td>2393</td>\n",
       "      <td>2852</td>\n",
       "      <td>O+</td>\n",
       "      <td>1263059</td>\n",
       "      <td>1245693</td>\n",
       "      <td>1544951566</td>\n",
       "      <td>Yes</td>\n",
       "      <td>1</td>\n",
       "      <td>ABJ01</td>\n",
       "      <td>Tafawa Balewa Way Area 8, Garki, Abuja</td>\n",
       "      <td>Abuja</td>\n",
       "      <td>9.0348838,7.4879229</td>\n",
       "    </tr>\n",
       "    <tr>\n",
       "      <td>...</td>\n",
       "      <td>...</td>\n",
       "      <td>...</td>\n",
       "      <td>...</td>\n",
       "      <td>...</td>\n",
       "      <td>...</td>\n",
       "      <td>...</td>\n",
       "      <td>...</td>\n",
       "      <td>...</td>\n",
       "      <td>...</td>\n",
       "      <td>...</td>\n",
       "      <td>...</td>\n",
       "    </tr>\n",
       "    <tr>\n",
       "      <td>7104</td>\n",
       "      <td>8526</td>\n",
       "      <td>B+</td>\n",
       "      <td>6071982</td>\n",
       "      <td>793812</td>\n",
       "      <td>1584099953</td>\n",
       "      <td>false</td>\n",
       "      <td>1</td>\n",
       "      <td>ABJ01</td>\n",
       "      <td>6 Djibouti Street, off Freetown Street, Wuse I...</td>\n",
       "      <td>Abuja</td>\n",
       "      <td>9.0741669,7.4865957</td>\n",
       "    </tr>\n",
       "    <tr>\n",
       "      <td>7110</td>\n",
       "      <td>8532</td>\n",
       "      <td>O+</td>\n",
       "      <td>6243150</td>\n",
       "      <td>793812</td>\n",
       "      <td>1584112558</td>\n",
       "      <td>false</td>\n",
       "      <td>1</td>\n",
       "      <td>ABJ01</td>\n",
       "      <td>Airport Road Jabi</td>\n",
       "      <td>Abuja</td>\n",
       "      <td>8.9449941,7.2872218</td>\n",
       "    </tr>\n",
       "    <tr>\n",
       "      <td>7132</td>\n",
       "      <td>8557</td>\n",
       "      <td>A+</td>\n",
       "      <td>651843</td>\n",
       "      <td>425397</td>\n",
       "      <td>1584281674</td>\n",
       "      <td>false</td>\n",
       "      <td>5</td>\n",
       "      <td>ABJ01</td>\n",
       "      <td>5, Atom Kpera Close, Off Abdulmumini, Gudu, Abuja</td>\n",
       "      <td>Abuja</td>\n",
       "      <td>9.0004812,7.4757986</td>\n",
       "    </tr>\n",
       "    <tr>\n",
       "      <td>7133</td>\n",
       "      <td>8558</td>\n",
       "      <td>O-</td>\n",
       "      <td>1205489</td>\n",
       "      <td>793812</td>\n",
       "      <td>1584282146</td>\n",
       "      <td>false</td>\n",
       "      <td>1</td>\n",
       "      <td>ABJ01</td>\n",
       "      <td>DIA Headquarters, after State House Clinic, As...</td>\n",
       "      <td>Abuja</td>\n",
       "      <td>9.0871046,7.5210173</td>\n",
       "    </tr>\n",
       "    <tr>\n",
       "      <td>7141</td>\n",
       "      <td>8568</td>\n",
       "      <td>B-</td>\n",
       "      <td>651843</td>\n",
       "      <td>6459238</td>\n",
       "      <td>1584348368</td>\n",
       "      <td>false</td>\n",
       "      <td>1</td>\n",
       "      <td>ABJ01</td>\n",
       "      <td>5, Atom Kpera Close, Off Abdulmumini, Gudu, Abuja</td>\n",
       "      <td>Abuja</td>\n",
       "      <td>9.0004812,7.4757986</td>\n",
       "    </tr>\n",
       "  </tbody>\n",
       "</table>\n",
       "<p>405 rows × 11 columns</p>\n",
       "</div>"
      ],
      "text/plain": [
       "      Order ID Blood Type  Hospital ID  BloodBank ID   Unix Time  \\\n",
       "2181      2628         O-      3526018       8796015  1541681655   \n",
       "2255      2708         A+      1439607       1628739  1542874550   \n",
       "2350      2807         O+      6071982       1628739  1544274051   \n",
       "2384      2843         O-      4253019       6459238  1544786480   \n",
       "2393      2852         O+      1263059       1245693  1544951566   \n",
       "...        ...        ...          ...           ...         ...   \n",
       "7104      8526         B+      6071982        793812  1584099953   \n",
       "7110      8532         O+      6243150        793812  1584112558   \n",
       "7132      8557         A+       651843        425397  1584281674   \n",
       "7133      8558         O-      1205489        793812  1584282146   \n",
       "7141      8568         B-       651843       6459238  1584348368   \n",
       "\n",
       "     Cross Matching  QTY Dispatch ID  \\\n",
       "2181            Yes    1       ABJ01   \n",
       "2255            Yes    1       ABJ01   \n",
       "2350            Yes    1       ABJ01   \n",
       "2384            Yes    1       ABJ01   \n",
       "2393            Yes    1       ABJ01   \n",
       "...             ...  ...         ...   \n",
       "7104          false    1       ABJ01   \n",
       "7110          false    1       ABJ01   \n",
       "7132          false    5       ABJ01   \n",
       "7133          false    1       ABJ01   \n",
       "7141          false    1       ABJ01   \n",
       "\n",
       "                                               Address   State  \\\n",
       "2181  Plot 1847, Constitution Avenue, Behind ICPC/ND...  Abuja   \n",
       "2255                 5, Juba Street, Zone 6 Wuse, Abuja  Abuja   \n",
       "2350  6 Djibouti Street, off Freetown Street, Wuse I...  Abuja   \n",
       "2384                          CBN Road, FHA Lugbe Abuja  Abuja   \n",
       "2393             Tafawa Balewa Way Area 8, Garki, Abuja  Abuja   \n",
       "...                                                 ...    ...   \n",
       "7104  6 Djibouti Street, off Freetown Street, Wuse I...  Abuja   \n",
       "7110                                  Airport Road Jabi  Abuja   \n",
       "7132  5, Atom Kpera Close, Off Abdulmumini, Gudu, Abuja  Abuja   \n",
       "7133  DIA Headquarters, after State House Clinic, As...  Abuja   \n",
       "7141  5, Atom Kpera Close, Off Abdulmumini, Gudu, Abuja  Abuja   \n",
       "\n",
       "     End Point Geo-location  \n",
       "2181     9.0429923,7.467967  \n",
       "2255                    NaN  \n",
       "2350    9.0741669,7.4865957  \n",
       "2384                    NaN  \n",
       "2393    9.0348838,7.4879229  \n",
       "...                     ...  \n",
       "7104    9.0741669,7.4865957  \n",
       "7110    8.9449941,7.2872218  \n",
       "7132    9.0004812,7.4757986  \n",
       "7133    9.0871046,7.5210173  \n",
       "7141    9.0004812,7.4757986  \n",
       "\n",
       "[405 rows x 11 columns]"
      ]
     },
     "execution_count": 23,
     "metadata": {},
     "output_type": "execute_result"
    }
   ],
   "source": [
    "orders.loc[orders['Dispatch ID'] == 'ABJ01']"
   ]
  },
  {
   "cell_type": "code",
   "execution_count": 24,
   "metadata": {},
   "outputs": [
    {
     "data": {
      "text/plain": [
       "Text(0.5, 1.0, 'Dispatch ID Count Plot')"
      ]
     },
     "execution_count": 24,
     "metadata": {},
     "output_type": "execute_result"
    },
    {
     "data": {
      "image/png": "[encoded data removed]",
      "text/plain": [
       "<Figure size 1152x576 with 1 Axes>"
      ]
     },
     "metadata": {
      "needs_background": "light"
     },
     "output_type": "display_data"
    }
   ],
   "source": [
    "fig, ax = plt.subplots(1, figsize = (16,8))\n",
    "sns.countplot(x = 'Dispatch ID', data = orders, color = 'Indigo', ax = ax)\n",
    "ax.set_title('Dispatch ID Count Plot')"
   ]
  },
  {
   "cell_type": "markdown",
   "metadata": {},
   "source": [
    "Not sure what ABJ.. for example means. It could, however, be useful if they have different types of dispatching - for example, whether it is by van or by car. However, I am not sure what to make of values such as 'Michael' (which clearly refers to an individual's name).\n",
    "<br>\n",
    "<br>\n",
    "Here I suggest that we clarify with LifeBank in order to see what these values (that are not 'bike.' mean. From this we can do a classification by vehicle type which will be useful for our analyisis.\n",
    "<br>\n",
    "<br>\n",
    "For now, however, I will drop this column."
   ]
  },
  {
   "cell_type": "code",
   "execution_count": 25,
   "metadata": {},
   "outputs": [],
   "source": [
    "orders = orders.drop(['Dispatch ID'], axis = 1)"
   ]
  },
  {
   "cell_type": "code",
   "execution_count": 26,
   "metadata": {},
   "outputs": [
    {
     "data": {
      "text/plain": [
       "Order ID                     0\n",
       "Blood Type                   0\n",
       "Hospital ID                  0\n",
       "BloodBank ID                 0\n",
       "Unix Time                    0\n",
       "Cross Matching            1272\n",
       "QTY                          0\n",
       "Address                      0\n",
       "State                        0\n",
       "End Point Geo-location    1773\n",
       "dtype: int64"
      ]
     },
     "execution_count": 26,
     "metadata": {},
     "output_type": "execute_result"
    }
   ],
   "source": [
    "orders.isnull().sum()"
   ]
  },
  {
   "cell_type": "markdown",
   "metadata": {},
   "source": [
    "**4. Cross Matching:**"
   ]
  },
  {
   "cell_type": "markdown",
   "metadata": {},
   "source": [
    "In transfusion medicine, cross-matching or crossmatching (part of series of steps in blood compatibility tests) is testing before a blood transfusion to determine if the donor's blood is compatible with the blood of an intended recipient. Cross-matching is also used to determine compatibility between a donor and recipient in organ transplantation. Compatibility is determined through matching of different blood group systems, the most important of which are the ABO and Rh system, and/or by directly testing for the presence of antibodies against the antigens in a sample of donor blood or other tissue.\n",
    "<br>\n",
    "<br>\n",
    "Intuitively, it would seem that Cross Matching is to be related with the Blood Type."
   ]
  },
  {
   "cell_type": "code",
   "execution_count": 27,
   "metadata": {},
   "outputs": [
    {
     "data": {
      "text/html": [
       "<div>\n",
       "<style scoped>\n",
       "    .dataframe tbody tr th:only-of-type {\n",
       "        vertical-align: middle;\n",
       "    }\n",
       "\n",
       "    .dataframe tbody tr th {\n",
       "        vertical-align: top;\n",
       "    }\n",
       "\n",
       "    .dataframe thead th {\n",
       "        text-align: right;\n",
       "    }\n",
       "</style>\n",
       "<table border=\"1\" class=\"dataframe\">\n",
       "  <thead>\n",
       "    <tr style=\"text-align: right;\">\n",
       "      <th></th>\n",
       "      <th>Order ID</th>\n",
       "      <th>Blood Type</th>\n",
       "      <th>Hospital ID</th>\n",
       "      <th>BloodBank ID</th>\n",
       "      <th>Unix Time</th>\n",
       "      <th>Cross Matching</th>\n",
       "      <th>QTY</th>\n",
       "      <th>Address</th>\n",
       "      <th>State</th>\n",
       "      <th>End Point Geo-location</th>\n",
       "    </tr>\n",
       "  </thead>\n",
       "  <tbody>\n",
       "    <tr>\n",
       "      <td>0</td>\n",
       "      <td>1</td>\n",
       "      <td>B+</td>\n",
       "      <td>2154730</td>\n",
       "      <td>1</td>\n",
       "      <td>1466034200</td>\n",
       "      <td>NaN</td>\n",
       "      <td>5</td>\n",
       "      <td>Military Hospital, Igbogbi, Lagos</td>\n",
       "      <td>Lagos</td>\n",
       "      <td>6.5224642,3.3734771</td>\n",
       "    </tr>\n",
       "    <tr>\n",
       "      <td>1</td>\n",
       "      <td>2</td>\n",
       "      <td>O+</td>\n",
       "      <td>1250873</td>\n",
       "      <td>1</td>\n",
       "      <td>1466726300</td>\n",
       "      <td>NaN</td>\n",
       "      <td>1</td>\n",
       "      <td>General Hospital Road, Araromi, Gbagada, Lagos</td>\n",
       "      <td>Lagos</td>\n",
       "      <td>NaN</td>\n",
       "    </tr>\n",
       "    <tr>\n",
       "      <td>2</td>\n",
       "      <td>3</td>\n",
       "      <td>O+</td>\n",
       "      <td>9215804</td>\n",
       "      <td>2104756</td>\n",
       "      <td>1472048755</td>\n",
       "      <td>No</td>\n",
       "      <td>5</td>\n",
       "      <td>12 Idowu Martins Street Victoria Island</td>\n",
       "      <td>Lagos</td>\n",
       "      <td>6.4332852,3.420224</td>\n",
       "    </tr>\n",
       "    <tr>\n",
       "      <td>3</td>\n",
       "      <td>4</td>\n",
       "      <td>O+</td>\n",
       "      <td>6873095</td>\n",
       "      <td>0</td>\n",
       "      <td>1469059200</td>\n",
       "      <td>NaN</td>\n",
       "      <td>2</td>\n",
       "      <td>28, david ogundele street, olude compound b/stop</td>\n",
       "      <td>Lagos</td>\n",
       "      <td>NaN</td>\n",
       "    </tr>\n",
       "    <tr>\n",
       "      <td>4</td>\n",
       "      <td>5</td>\n",
       "      <td>O+</td>\n",
       "      <td>1890375</td>\n",
       "      <td>0</td>\n",
       "      <td>1469059201</td>\n",
       "      <td>NaN</td>\n",
       "      <td>2</td>\n",
       "      <td>155, Akowonjo Road, Opposite Four Square Gospe...</td>\n",
       "      <td>Lagos</td>\n",
       "      <td>NaN</td>\n",
       "    </tr>\n",
       "  </tbody>\n",
       "</table>\n",
       "</div>"
      ],
      "text/plain": [
       "   Order ID Blood Type  Hospital ID  BloodBank ID   Unix Time Cross Matching  \\\n",
       "0         1         B+      2154730             1  1466034200            NaN   \n",
       "1         2         O+      1250873             1  1466726300            NaN   \n",
       "2         3         O+      9215804       2104756  1472048755             No   \n",
       "3         4         O+      6873095             0  1469059200            NaN   \n",
       "4         5         O+      1890375             0  1469059201            NaN   \n",
       "\n",
       "   QTY                                           Address   State  \\\n",
       "0    5                  Military Hospital, Igbogbi, Lagos  Lagos   \n",
       "1    1     General Hospital Road, Araromi, Gbagada, Lagos  Lagos   \n",
       "2    5            12 Idowu Martins Street Victoria Island  Lagos   \n",
       "3    2   28, david ogundele street, olude compound b/stop  Lagos   \n",
       "4    2  155, Akowonjo Road, Opposite Four Square Gospe...  Lagos   \n",
       "\n",
       "  End Point Geo-location  \n",
       "0    6.5224642,3.3734771  \n",
       "1                    NaN  \n",
       "2     6.4332852,3.420224  \n",
       "3                    NaN  \n",
       "4                    NaN  "
      ]
     },
     "execution_count": 27,
     "metadata": {},
     "output_type": "execute_result"
    }
   ],
   "source": [
    "orders.head()"
   ]
  },
  {
   "cell_type": "code",
   "execution_count": 28,
   "metadata": {},
   "outputs": [
    {
     "data": {
      "text/plain": [
       "array([nan, 'No', 'no', 'Yes', 'false', 'true'], dtype=object)"
      ]
     },
     "execution_count": 28,
     "metadata": {},
     "output_type": "execute_result"
    }
   ],
   "source": [
    "orders['Cross Matching'].unique()"
   ]
  },
  {
   "cell_type": "markdown",
   "metadata": {},
   "source": [
    "Firstly, let us group together 'No', 'no', 'false' and then 'Yes' and 'true':"
   ]
  },
  {
   "cell_type": "code",
   "execution_count": 29,
   "metadata": {},
   "outputs": [],
   "source": [
    "#No\n",
    "orders.loc[(orders['Cross Matching'] == 'no'), 'Cross Matching'] = 'No'\n",
    "orders.loc[(orders['Cross Matching'] == 'false'), 'Cross Matching'] = 'No'\n",
    "\n",
    "#Yes\n",
    "orders.loc[(orders['Cross Matching'] == 'true'), 'Cross Matching'] = 'Yes'"
   ]
  },
  {
   "cell_type": "code",
   "execution_count": 30,
   "metadata": {},
   "outputs": [
    {
     "data": {
      "text/plain": [
       "4260"
      ]
     },
     "execution_count": 30,
     "metadata": {},
     "output_type": "execute_result"
    }
   ],
   "source": [
    "orders.loc[orders['Cross Matching'] == 'Yes'].shape[0]"
   ]
  },
  {
   "cell_type": "code",
   "execution_count": 31,
   "metadata": {},
   "outputs": [
    {
     "name": "stdout",
     "output_type": "stream",
     "text": [
      "Yes:4260 | No: 1614\n"
     ]
    },
    {
     "data": {
      "image/png": "[encoded data removed]",
      "text/plain": [
       "<Figure size 1152x576 with 1 Axes>"
      ]
     },
     "metadata": {
      "needs_background": "light"
     },
     "output_type": "display_data"
    }
   ],
   "source": [
    "fig, ax = plt.subplots(1, figsize = (16,8))\n",
    "sns.countplot(x = 'Cross Matching', data = orders, color = 'Indigo', ax = ax)\n",
    "print(f\"Yes:{orders.loc[orders['Cross Matching'] == 'Yes'].shape[0]} | \\\n",
    "No: {orders.loc[orders['Cross Matching'] == 'No'].shape[0]}\")"
   ]
  },
  {
   "cell_type": "markdown",
   "metadata": {},
   "source": [
    "We can see in general that most cases are Yes (Yes 4260 vs No: 1614). However, let's try and see if there is a relationship between the cases of null values."
   ]
  },
  {
   "cell_type": "code",
   "execution_count": 32,
   "metadata": {},
   "outputs": [],
   "source": [
    "crossmatch_null = orders[orders['Cross Matching'].isnull()] "
   ]
  },
  {
   "cell_type": "code",
   "execution_count": 33,
   "metadata": {},
   "outputs": [
    {
     "data": {
      "text/plain": [
       "Text(0.5, 1.0, 'Blood Type Count Plot for Cross Matching Null Cases')"
      ]
     },
     "execution_count": 33,
     "metadata": {},
     "output_type": "execute_result"
    },
    {
     "data": {
      "image/png": "[encoded data removed]",
      "text/plain": [
       "<Figure size 1152x576 with 3 Axes>"
      ]
     },
     "metadata": {
      "needs_background": "light"
     },
     "output_type": "display_data"
    }
   ],
   "source": [
    "fig, ax = plt.subplots(nrows=1, ncols=3, figsize = (16,8))\n",
    "sns.countplot(x = 'Blood Type', data = orders, color = 'Indigo', hue = 'Cross Matching', ax = ax[0])\n",
    "ax[0].set_title('Blood Type Count Plot Hue: Cross Matching')\n",
    "sns.countplot(x = 'QTY', data = orders, color = 'Indigo', hue = 'Cross Matching', ax = ax[1])\n",
    "ax[1].set_title('QTY Count Plot Hue: Cross Matching')\n",
    "sns.countplot(x = 'Blood Type', data = crossmatch_null, color = 'Indigo', ax = ax[2])\n",
    "ax[2].set_title('Blood Type Count Plot for Cross Matching Null Cases')"
   ]
  },
  {
   "cell_type": "markdown",
   "metadata": {},
   "source": [
    "We can see the following:\n",
    "1. Via Blood Type, via different Quantities, is 'Yes' for cross-matching\n",
    "2. The major blood type amongst the null cases is still O+ which is expected.\n",
    "\n",
    "Given this, I will simply replace it with the most frequent (i.e. 'Yes')\n",
    "(This, however, is a simplistic strategy and there is room for improvement later on)."
   ]
  },
  {
   "cell_type": "code",
   "execution_count": 34,
   "metadata": {},
   "outputs": [],
   "source": [
    "orders.loc[(orders['Cross Matching'].isnull()), 'Cross Matching'] = 'Yes'"
   ]
  },
  {
   "cell_type": "code",
   "execution_count": 35,
   "metadata": {},
   "outputs": [
    {
     "data": {
      "text/plain": [
       "Order ID                     0\n",
       "Blood Type                   0\n",
       "Hospital ID                  0\n",
       "BloodBank ID                 0\n",
       "Unix Time                    0\n",
       "Cross Matching               0\n",
       "QTY                          0\n",
       "Address                      0\n",
       "State                        0\n",
       "End Point Geo-location    1773\n",
       "dtype: int64"
      ]
     },
     "execution_count": 35,
     "metadata": {},
     "output_type": "execute_result"
    }
   ],
   "source": [
    "orders.isnull().sum()"
   ]
  },
  {
   "cell_type": "markdown",
   "metadata": {},
   "source": [
    "**5. End Point Geo-location:**"
   ]
  },
  {
   "cell_type": "markdown",
   "metadata": {},
   "source": [
    "Thee end point geo_location is the end point; address is the address version of this; however this means that we cannot get the distance from point to point. The only thing might be if we get the blood bank ID - to consider this later."
   ]
  },
  {
   "cell_type": "code",
   "execution_count": 36,
   "metadata": {},
   "outputs": [
    {
     "data": {
      "text/html": [
       "<div>\n",
       "<style scoped>\n",
       "    .dataframe tbody tr th:only-of-type {\n",
       "        vertical-align: middle;\n",
       "    }\n",
       "\n",
       "    .dataframe tbody tr th {\n",
       "        vertical-align: top;\n",
       "    }\n",
       "\n",
       "    .dataframe thead th {\n",
       "        text-align: right;\n",
       "    }\n",
       "</style>\n",
       "<table border=\"1\" class=\"dataframe\">\n",
       "  <thead>\n",
       "    <tr style=\"text-align: right;\">\n",
       "      <th></th>\n",
       "      <th>Order ID</th>\n",
       "      <th>Blood Type</th>\n",
       "      <th>Hospital ID</th>\n",
       "      <th>BloodBank ID</th>\n",
       "      <th>Unix Time</th>\n",
       "      <th>Cross Matching</th>\n",
       "      <th>QTY</th>\n",
       "      <th>Address</th>\n",
       "      <th>State</th>\n",
       "      <th>End Point Geo-location</th>\n",
       "    </tr>\n",
       "  </thead>\n",
       "  <tbody>\n",
       "    <tr>\n",
       "      <td>1</td>\n",
       "      <td>2</td>\n",
       "      <td>O+</td>\n",
       "      <td>1250873</td>\n",
       "      <td>1</td>\n",
       "      <td>1466726300</td>\n",
       "      <td>Yes</td>\n",
       "      <td>1</td>\n",
       "      <td>General Hospital Road, Araromi, Gbagada, Lagos</td>\n",
       "      <td>Lagos</td>\n",
       "      <td>NaN</td>\n",
       "    </tr>\n",
       "    <tr>\n",
       "      <td>3</td>\n",
       "      <td>4</td>\n",
       "      <td>O+</td>\n",
       "      <td>6873095</td>\n",
       "      <td>0</td>\n",
       "      <td>1469059200</td>\n",
       "      <td>Yes</td>\n",
       "      <td>2</td>\n",
       "      <td>28, david ogundele street, olude compound b/stop</td>\n",
       "      <td>Lagos</td>\n",
       "      <td>NaN</td>\n",
       "    </tr>\n",
       "    <tr>\n",
       "      <td>4</td>\n",
       "      <td>5</td>\n",
       "      <td>O+</td>\n",
       "      <td>1890375</td>\n",
       "      <td>0</td>\n",
       "      <td>1469059201</td>\n",
       "      <td>Yes</td>\n",
       "      <td>2</td>\n",
       "      <td>155, Akowonjo Road, Opposite Four Square Gospe...</td>\n",
       "      <td>Lagos</td>\n",
       "      <td>NaN</td>\n",
       "    </tr>\n",
       "    <tr>\n",
       "      <td>6</td>\n",
       "      <td>7</td>\n",
       "      <td>O+</td>\n",
       "      <td>8205469</td>\n",
       "      <td>2104756</td>\n",
       "      <td>1467331200</td>\n",
       "      <td>No</td>\n",
       "      <td>1</td>\n",
       "      <td>1, Akin-Delu Street of Cole Street. Ikate</td>\n",
       "      <td>Lagos</td>\n",
       "      <td>NaN</td>\n",
       "    </tr>\n",
       "    <tr>\n",
       "      <td>7</td>\n",
       "      <td>8</td>\n",
       "      <td>O+</td>\n",
       "      <td>6873095</td>\n",
       "      <td>2104756</td>\n",
       "      <td>1468627200</td>\n",
       "      <td>No</td>\n",
       "      <td>1</td>\n",
       "      <td>28, david ogundele street, olude compound b/stop</td>\n",
       "      <td>Lagos</td>\n",
       "      <td>NaN</td>\n",
       "    </tr>\n",
       "  </tbody>\n",
       "</table>\n",
       "</div>"
      ],
      "text/plain": [
       "   Order ID Blood Type  Hospital ID  BloodBank ID   Unix Time Cross Matching  \\\n",
       "1         2         O+      1250873             1  1466726300            Yes   \n",
       "3         4         O+      6873095             0  1469059200            Yes   \n",
       "4         5         O+      1890375             0  1469059201            Yes   \n",
       "6         7         O+      8205469       2104756  1467331200             No   \n",
       "7         8         O+      6873095       2104756  1468627200             No   \n",
       "\n",
       "   QTY                                           Address   State  \\\n",
       "1    1     General Hospital Road, Araromi, Gbagada, Lagos  Lagos   \n",
       "3    2   28, david ogundele street, olude compound b/stop  Lagos   \n",
       "4    2  155, Akowonjo Road, Opposite Four Square Gospe...  Lagos   \n",
       "6    1          1, Akin-Delu Street of Cole Street. Ikate  Lagos   \n",
       "7    1   28, david ogundele street, olude compound b/stop  Lagos   \n",
       "\n",
       "  End Point Geo-location  \n",
       "1                    NaN  \n",
       "3                    NaN  \n",
       "4                    NaN  \n",
       "6                    NaN  \n",
       "7                    NaN  "
      ]
     },
     "execution_count": 36,
     "metadata": {},
     "output_type": "execute_result"
    }
   ],
   "source": [
    "orders.loc[orders['End Point Geo-location'].isnull()].head()"
   ]
  },
  {
   "cell_type": "code",
   "execution_count": 37,
   "metadata": {},
   "outputs": [],
   "source": [
    "def return_coordinates(address):\n",
    "    \n",
    "    GOOGLE_MAPS_API_URL = 'https://maps.googleapis.com/maps/api/geocode/json'\n",
    "    api_key = \"##################\"\n",
    "    params = {\n",
    "            'address': address,\n",
    "            'sensor': 'false',\n",
    "            'region': 'nigeria',\n",
    "            'key': api_key\n",
    "        }\n",
    "    req = requests.get(GOOGLE_MAPS_API_URL, params=params)\n",
    "    res = req.json()\n",
    "    result = res['results'][0]\n",
    "    lat = result['geometry']['location']['lat']\n",
    "    long = result['geometry']['location']['lng']\n",
    "    return str(lat) + ',' + str(long)"
   ]
  },
  {
   "cell_type": "code",
   "execution_count": null,
   "metadata": {},
   "outputs": [],
   "source": [
    "address_list = []\n",
    "end_point_list = []\n",
    "for i in address_list:\n",
    "    try:\n",
    "        end_point_list.append(return_coordinates(i))\n",
    "    except Exception as e:\n",
    "        end_point_list.append(f\"error: {e}\")"
   ]
  },
  {
   "cell_type": "code",
   "execution_count": 38,
   "metadata": {},
   "outputs": [],
   "source": [
    "test = orders.loc[orders['End Point Geo-location'].isnull()]['Address '][7]"
   ]
  },
  {
   "cell_type": "code",
   "execution_count": 39,
   "metadata": {},
   "outputs": [
    {
     "data": {
      "text/plain": [
       "'6.610150699999999,3.2571244'"
      ]
     },
     "execution_count": 39,
     "metadata": {},
     "output_type": "execute_result"
    }
   ],
   "source": [
    "return_coordinates(test)"
   ]
  },
  {
   "cell_type": "code",
   "execution_count": 40,
   "metadata": {},
   "outputs": [],
   "source": [
    "geo_null = orders.loc[orders['End Point Geo-location'].isnull()]\n",
    "geo_null = geo_null.reset_index(drop=True)"
   ]
  },
  {
   "cell_type": "code",
   "execution_count": 41,
   "metadata": {},
   "outputs": [
    {
     "data": {
      "text/html": [
       "<div>\n",
       "<style scoped>\n",
       "    .dataframe tbody tr th:only-of-type {\n",
       "        vertical-align: middle;\n",
       "    }\n",
       "\n",
       "    .dataframe tbody tr th {\n",
       "        vertical-align: top;\n",
       "    }\n",
       "\n",
       "    .dataframe thead th {\n",
       "        text-align: right;\n",
       "    }\n",
       "</style>\n",
       "<table border=\"1\" class=\"dataframe\">\n",
       "  <thead>\n",
       "    <tr style=\"text-align: right;\">\n",
       "      <th></th>\n",
       "      <th>Order ID</th>\n",
       "      <th>Blood Type</th>\n",
       "      <th>Hospital ID</th>\n",
       "      <th>BloodBank ID</th>\n",
       "      <th>Unix Time</th>\n",
       "      <th>Cross Matching</th>\n",
       "      <th>QTY</th>\n",
       "      <th>Address</th>\n",
       "      <th>State</th>\n",
       "      <th>End Point Geo-location</th>\n",
       "    </tr>\n",
       "  </thead>\n",
       "  <tbody>\n",
       "    <tr>\n",
       "      <td>0</td>\n",
       "      <td>2</td>\n",
       "      <td>O+</td>\n",
       "      <td>1250873</td>\n",
       "      <td>1</td>\n",
       "      <td>1466726300</td>\n",
       "      <td>Yes</td>\n",
       "      <td>1</td>\n",
       "      <td>General Hospital Road, Araromi, Gbagada, Lagos</td>\n",
       "      <td>Lagos</td>\n",
       "      <td>NaN</td>\n",
       "    </tr>\n",
       "    <tr>\n",
       "      <td>1</td>\n",
       "      <td>4</td>\n",
       "      <td>O+</td>\n",
       "      <td>6873095</td>\n",
       "      <td>0</td>\n",
       "      <td>1469059200</td>\n",
       "      <td>Yes</td>\n",
       "      <td>2</td>\n",
       "      <td>28, david ogundele street, olude compound b/stop</td>\n",
       "      <td>Lagos</td>\n",
       "      <td>NaN</td>\n",
       "    </tr>\n",
       "    <tr>\n",
       "      <td>2</td>\n",
       "      <td>5</td>\n",
       "      <td>O+</td>\n",
       "      <td>1890375</td>\n",
       "      <td>0</td>\n",
       "      <td>1469059201</td>\n",
       "      <td>Yes</td>\n",
       "      <td>2</td>\n",
       "      <td>155, Akowonjo Road, Opposite Four Square Gospe...</td>\n",
       "      <td>Lagos</td>\n",
       "      <td>NaN</td>\n",
       "    </tr>\n",
       "    <tr>\n",
       "      <td>3</td>\n",
       "      <td>7</td>\n",
       "      <td>O+</td>\n",
       "      <td>8205469</td>\n",
       "      <td>2104756</td>\n",
       "      <td>1467331200</td>\n",
       "      <td>No</td>\n",
       "      <td>1</td>\n",
       "      <td>1, Akin-Delu Street of Cole Street. Ikate</td>\n",
       "      <td>Lagos</td>\n",
       "      <td>NaN</td>\n",
       "    </tr>\n",
       "    <tr>\n",
       "      <td>4</td>\n",
       "      <td>8</td>\n",
       "      <td>O+</td>\n",
       "      <td>6873095</td>\n",
       "      <td>2104756</td>\n",
       "      <td>1468627200</td>\n",
       "      <td>No</td>\n",
       "      <td>1</td>\n",
       "      <td>28, david ogundele street, olude compound b/stop</td>\n",
       "      <td>Lagos</td>\n",
       "      <td>NaN</td>\n",
       "    </tr>\n",
       "  </tbody>\n",
       "</table>\n",
       "</div>"
      ],
      "text/plain": [
       "   Order ID Blood Type  Hospital ID  BloodBank ID   Unix Time Cross Matching  \\\n",
       "0         2         O+      1250873             1  1466726300            Yes   \n",
       "1         4         O+      6873095             0  1469059200            Yes   \n",
       "2         5         O+      1890375             0  1469059201            Yes   \n",
       "3         7         O+      8205469       2104756  1467331200             No   \n",
       "4         8         O+      6873095       2104756  1468627200             No   \n",
       "\n",
       "   QTY                                           Address   State  \\\n",
       "0    1     General Hospital Road, Araromi, Gbagada, Lagos  Lagos   \n",
       "1    2   28, david ogundele street, olude compound b/stop  Lagos   \n",
       "2    2  155, Akowonjo Road, Opposite Four Square Gospe...  Lagos   \n",
       "3    1          1, Akin-Delu Street of Cole Street. Ikate  Lagos   \n",
       "4    1   28, david ogundele street, olude compound b/stop  Lagos   \n",
       "\n",
       "  End Point Geo-location  \n",
       "0                    NaN  \n",
       "1                    NaN  \n",
       "2                    NaN  \n",
       "3                    NaN  \n",
       "4                    NaN  "
      ]
     },
     "execution_count": 41,
     "metadata": {},
     "output_type": "execute_result"
    }
   ],
   "source": [
    "order_id_list = geo_null['Order ID'].to_list()\n",
    "address_list = geo_null['Address '].to_list()\n",
    "geo_null.head()"
   ]
  },
  {
   "cell_type": "markdown",
   "metadata": {},
   "source": [
    "We will loop through a quarter of the address list because of requests time out:"
   ]
  },
  {
   "cell_type": "code",
   "execution_count": 42,
   "metadata": {},
   "outputs": [],
   "source": [
    "order_id_list1 = order_id_list[:450]\n",
    "order_id_list2 = order_id_list[450:900]\n",
    "order_id_list3 = order_id_list[900:1350]\n",
    "order_id_list4 = order_id_list[1350:]\n",
    "\n",
    "address_list1 = address_list[:450]\n",
    "address_list2 = address_list[450:900]\n",
    "address_list3 = address_list[900:1350]\n",
    "address_list4 = address_list[1350:]\n",
    "\n",
    "end_point_list1 = []\n",
    "end_point_list2 = []\n",
    "end_point_list3 = []\n",
    "end_point_list4 = []"
   ]
  },
  {
   "cell_type": "code",
   "execution_count": 43,
   "metadata": {},
   "outputs": [
    {
     "data": {
      "text/html": [
       "<div>\n",
       "<style scoped>\n",
       "    .dataframe tbody tr th:only-of-type {\n",
       "        vertical-align: middle;\n",
       "    }\n",
       "\n",
       "    .dataframe tbody tr th {\n",
       "        vertical-align: top;\n",
       "    }\n",
       "\n",
       "    .dataframe thead th {\n",
       "        text-align: right;\n",
       "    }\n",
       "</style>\n",
       "<table border=\"1\" class=\"dataframe\">\n",
       "  <thead>\n",
       "    <tr style=\"text-align: right;\">\n",
       "      <th></th>\n",
       "      <th>Order ID</th>\n",
       "      <th>Blood Type</th>\n",
       "      <th>Hospital ID</th>\n",
       "      <th>BloodBank ID</th>\n",
       "      <th>Unix Time</th>\n",
       "      <th>Cross Matching</th>\n",
       "      <th>QTY</th>\n",
       "      <th>Address</th>\n",
       "      <th>State</th>\n",
       "      <th>End Point Geo-location</th>\n",
       "    </tr>\n",
       "  </thead>\n",
       "  <tbody>\n",
       "    <tr>\n",
       "      <td>226</td>\n",
       "      <td>719</td>\n",
       "      <td>O+</td>\n",
       "      <td>6812475</td>\n",
       "      <td>73549</td>\n",
       "      <td>1499426645</td>\n",
       "      <td>Yes</td>\n",
       "      <td>2</td>\n",
       "      <td>1 - 3 Broad St, Odan,</td>\n",
       "      <td>Lagos</td>\n",
       "      <td>NaN</td>\n",
       "    </tr>\n",
       "  </tbody>\n",
       "</table>\n",
       "</div>"
      ],
      "text/plain": [
       "     Order ID Blood Type  Hospital ID  BloodBank ID   Unix Time  \\\n",
       "226       719         O+      6812475         73549  1499426645   \n",
       "\n",
       "    Cross Matching  QTY               Address   State End Point Geo-location  \n",
       "226            Yes    2  1 - 3 Broad St, Odan,  Lagos                    NaN  "
      ]
     },
     "execution_count": 43,
     "metadata": {},
     "output_type": "execute_result"
    }
   ],
   "source": [
    "geo_null.loc[geo_null['Order ID'] == 719]"
   ]
  },
  {
   "cell_type": "code",
   "execution_count": 44,
   "metadata": {},
   "outputs": [
    {
     "ename": "KeyboardInterrupt",
     "evalue": "",
     "output_type": "error",
     "traceback": [
      "\u001b[0;31m---------------------------------------------------------------------------\u001b[0m",
      "\u001b[0;31mKeyboardInterrupt\u001b[0m                         Traceback (most recent call last)",
      "\u001b[0;32m<ipython-input-44-00bc79697994>\u001b[0m in \u001b[0;36m<module>\u001b[0;34m\u001b[0m\n\u001b[1;32m      1\u001b[0m \u001b[0;32mfor\u001b[0m \u001b[0mi\u001b[0m \u001b[0;32min\u001b[0m \u001b[0maddress_list1\u001b[0m\u001b[0;34m:\u001b[0m\u001b[0;34m\u001b[0m\u001b[0;34m\u001b[0m\u001b[0m\n\u001b[1;32m      2\u001b[0m     \u001b[0;32mtry\u001b[0m\u001b[0;34m:\u001b[0m\u001b[0;34m\u001b[0m\u001b[0;34m\u001b[0m\u001b[0m\n\u001b[0;32m----> 3\u001b[0;31m         \u001b[0mend_point_list1\u001b[0m\u001b[0;34m.\u001b[0m\u001b[0mappend\u001b[0m\u001b[0;34m(\u001b[0m\u001b[0mreturn_coordinates\u001b[0m\u001b[0;34m(\u001b[0m\u001b[0mi\u001b[0m\u001b[0;34m)\u001b[0m\u001b[0;34m)\u001b[0m\u001b[0;34m\u001b[0m\u001b[0;34m\u001b[0m\u001b[0m\n\u001b[0m\u001b[1;32m      4\u001b[0m     \u001b[0;32mexcept\u001b[0m \u001b[0mException\u001b[0m \u001b[0;32mas\u001b[0m \u001b[0me\u001b[0m\u001b[0;34m:\u001b[0m\u001b[0;34m\u001b[0m\u001b[0;34m\u001b[0m\u001b[0m\n\u001b[1;32m      5\u001b[0m         \u001b[0mend_point_list1\u001b[0m\u001b[0;34m.\u001b[0m\u001b[0mappend\u001b[0m\u001b[0;34m(\u001b[0m\u001b[0;34mf\"error: {e}\"\u001b[0m\u001b[0;34m)\u001b[0m\u001b[0;34m\u001b[0m\u001b[0;34m\u001b[0m\u001b[0m\n",
      "\u001b[0;32m<ipython-input-37-b5d23e0752ce>\u001b[0m in \u001b[0;36mreturn_coordinates\u001b[0;34m(address)\u001b[0m\n\u001b[1;32m      9\u001b[0m             \u001b[0;34m'key'\u001b[0m\u001b[0;34m:\u001b[0m \u001b[0mapi_key\u001b[0m\u001b[0;34m\u001b[0m\u001b[0;34m\u001b[0m\u001b[0m\n\u001b[1;32m     10\u001b[0m         }\n\u001b[0;32m---> 11\u001b[0;31m     \u001b[0mreq\u001b[0m \u001b[0;34m=\u001b[0m \u001b[0mrequests\u001b[0m\u001b[0;34m.\u001b[0m\u001b[0mget\u001b[0m\u001b[0;34m(\u001b[0m\u001b[0mGOOGLE_MAPS_API_URL\u001b[0m\u001b[0;34m,\u001b[0m \u001b[0mparams\u001b[0m\u001b[0;34m=\u001b[0m\u001b[0mparams\u001b[0m\u001b[0;34m)\u001b[0m\u001b[0;34m\u001b[0m\u001b[0;34m\u001b[0m\u001b[0m\n\u001b[0m\u001b[1;32m     12\u001b[0m     \u001b[0mres\u001b[0m \u001b[0;34m=\u001b[0m \u001b[0mreq\u001b[0m\u001b[0;34m.\u001b[0m\u001b[0mjson\u001b[0m\u001b[0;34m(\u001b[0m\u001b[0;34m)\u001b[0m\u001b[0;34m\u001b[0m\u001b[0;34m\u001b[0m\u001b[0m\n\u001b[1;32m     13\u001b[0m     \u001b[0mresult\u001b[0m \u001b[0;34m=\u001b[0m \u001b[0mres\u001b[0m\u001b[0;34m[\u001b[0m\u001b[0;34m'results'\u001b[0m\u001b[0;34m]\u001b[0m\u001b[0;34m[\u001b[0m\u001b[0;36m0\u001b[0m\u001b[0;34m]\u001b[0m\u001b[0;34m\u001b[0m\u001b[0;34m\u001b[0m\u001b[0m\n",
      "\u001b[0;32m~/anaconda3/envs/bts36/lib/python3.6/site-packages/requests/api.py\u001b[0m in \u001b[0;36mget\u001b[0;34m(url, params, **kwargs)\u001b[0m\n\u001b[1;32m     73\u001b[0m \u001b[0;34m\u001b[0m\u001b[0m\n\u001b[1;32m     74\u001b[0m     \u001b[0mkwargs\u001b[0m\u001b[0;34m.\u001b[0m\u001b[0msetdefault\u001b[0m\u001b[0;34m(\u001b[0m\u001b[0;34m'allow_redirects'\u001b[0m\u001b[0;34m,\u001b[0m \u001b[0;32mTrue\u001b[0m\u001b[0;34m)\u001b[0m\u001b[0;34m\u001b[0m\u001b[0;34m\u001b[0m\u001b[0m\n\u001b[0;32m---> 75\u001b[0;31m     \u001b[0;32mreturn\u001b[0m \u001b[0mrequest\u001b[0m\u001b[0;34m(\u001b[0m\u001b[0;34m'get'\u001b[0m\u001b[0;34m,\u001b[0m \u001b[0murl\u001b[0m\u001b[0;34m,\u001b[0m \u001b[0mparams\u001b[0m\u001b[0;34m=\u001b[0m\u001b[0mparams\u001b[0m\u001b[0;34m,\u001b[0m \u001b[0;34m**\u001b[0m\u001b[0mkwargs\u001b[0m\u001b[0;34m)\u001b[0m\u001b[0;34m\u001b[0m\u001b[0;34m\u001b[0m\u001b[0m\n\u001b[0m\u001b[1;32m     76\u001b[0m \u001b[0;34m\u001b[0m\u001b[0m\n\u001b[1;32m     77\u001b[0m \u001b[0;34m\u001b[0m\u001b[0m\n",
      "\u001b[0;32m~/anaconda3/envs/bts36/lib/python3.6/site-packages/requests/api.py\u001b[0m in \u001b[0;36mrequest\u001b[0;34m(method, url, **kwargs)\u001b[0m\n\u001b[1;32m     58\u001b[0m     \u001b[0;31m# cases, and look like a memory leak in others.\u001b[0m\u001b[0;34m\u001b[0m\u001b[0;34m\u001b[0m\u001b[0;34m\u001b[0m\u001b[0m\n\u001b[1;32m     59\u001b[0m     \u001b[0;32mwith\u001b[0m \u001b[0msessions\u001b[0m\u001b[0;34m.\u001b[0m\u001b[0mSession\u001b[0m\u001b[0;34m(\u001b[0m\u001b[0;34m)\u001b[0m \u001b[0;32mas\u001b[0m \u001b[0msession\u001b[0m\u001b[0;34m:\u001b[0m\u001b[0;34m\u001b[0m\u001b[0;34m\u001b[0m\u001b[0m\n\u001b[0;32m---> 60\u001b[0;31m         \u001b[0;32mreturn\u001b[0m \u001b[0msession\u001b[0m\u001b[0;34m.\u001b[0m\u001b[0mrequest\u001b[0m\u001b[0;34m(\u001b[0m\u001b[0mmethod\u001b[0m\u001b[0;34m=\u001b[0m\u001b[0mmethod\u001b[0m\u001b[0;34m,\u001b[0m \u001b[0murl\u001b[0m\u001b[0;34m=\u001b[0m\u001b[0murl\u001b[0m\u001b[0;34m,\u001b[0m \u001b[0;34m**\u001b[0m\u001b[0mkwargs\u001b[0m\u001b[0;34m)\u001b[0m\u001b[0;34m\u001b[0m\u001b[0;34m\u001b[0m\u001b[0m\n\u001b[0m\u001b[1;32m     61\u001b[0m \u001b[0;34m\u001b[0m\u001b[0m\n\u001b[1;32m     62\u001b[0m \u001b[0;34m\u001b[0m\u001b[0m\n",
      "\u001b[0;32m~/anaconda3/envs/bts36/lib/python3.6/site-packages/requests/sessions.py\u001b[0m in \u001b[0;36mrequest\u001b[0;34m(self, method, url, params, data, headers, cookies, files, auth, timeout, allow_redirects, proxies, hooks, stream, verify, cert, json)\u001b[0m\n\u001b[1;32m    531\u001b[0m         }\n\u001b[1;32m    532\u001b[0m         \u001b[0msend_kwargs\u001b[0m\u001b[0;34m.\u001b[0m\u001b[0mupdate\u001b[0m\u001b[0;34m(\u001b[0m\u001b[0msettings\u001b[0m\u001b[0;34m)\u001b[0m\u001b[0;34m\u001b[0m\u001b[0;34m\u001b[0m\u001b[0m\n\u001b[0;32m--> 533\u001b[0;31m         \u001b[0mresp\u001b[0m \u001b[0;34m=\u001b[0m \u001b[0mself\u001b[0m\u001b[0;34m.\u001b[0m\u001b[0msend\u001b[0m\u001b[0;34m(\u001b[0m\u001b[0mprep\u001b[0m\u001b[0;34m,\u001b[0m \u001b[0;34m**\u001b[0m\u001b[0msend_kwargs\u001b[0m\u001b[0;34m)\u001b[0m\u001b[0;34m\u001b[0m\u001b[0;34m\u001b[0m\u001b[0m\n\u001b[0m\u001b[1;32m    534\u001b[0m \u001b[0;34m\u001b[0m\u001b[0m\n\u001b[1;32m    535\u001b[0m         \u001b[0;32mreturn\u001b[0m \u001b[0mresp\u001b[0m\u001b[0;34m\u001b[0m\u001b[0;34m\u001b[0m\u001b[0m\n",
      "\u001b[0;32m~/anaconda3/envs/bts36/lib/python3.6/site-packages/requests/sessions.py\u001b[0m in \u001b[0;36msend\u001b[0;34m(self, request, **kwargs)\u001b[0m\n\u001b[1;32m    644\u001b[0m \u001b[0;34m\u001b[0m\u001b[0m\n\u001b[1;32m    645\u001b[0m         \u001b[0;31m# Send the request\u001b[0m\u001b[0;34m\u001b[0m\u001b[0;34m\u001b[0m\u001b[0;34m\u001b[0m\u001b[0m\n\u001b[0;32m--> 646\u001b[0;31m         \u001b[0mr\u001b[0m \u001b[0;34m=\u001b[0m \u001b[0madapter\u001b[0m\u001b[0;34m.\u001b[0m\u001b[0msend\u001b[0m\u001b[0;34m(\u001b[0m\u001b[0mrequest\u001b[0m\u001b[0;34m,\u001b[0m \u001b[0;34m**\u001b[0m\u001b[0mkwargs\u001b[0m\u001b[0;34m)\u001b[0m\u001b[0;34m\u001b[0m\u001b[0;34m\u001b[0m\u001b[0m\n\u001b[0m\u001b[1;32m    647\u001b[0m \u001b[0;34m\u001b[0m\u001b[0m\n\u001b[1;32m    648\u001b[0m         \u001b[0;31m# Total elapsed time of the request (approximately)\u001b[0m\u001b[0;34m\u001b[0m\u001b[0;34m\u001b[0m\u001b[0;34m\u001b[0m\u001b[0m\n",
      "\u001b[0;32m~/anaconda3/envs/bts36/lib/python3.6/site-packages/requests/adapters.py\u001b[0m in \u001b[0;36msend\u001b[0;34m(self, request, stream, timeout, verify, cert, proxies)\u001b[0m\n\u001b[1;32m    447\u001b[0m                     \u001b[0mdecode_content\u001b[0m\u001b[0;34m=\u001b[0m\u001b[0;32mFalse\u001b[0m\u001b[0;34m,\u001b[0m\u001b[0;34m\u001b[0m\u001b[0;34m\u001b[0m\u001b[0m\n\u001b[1;32m    448\u001b[0m                     \u001b[0mretries\u001b[0m\u001b[0;34m=\u001b[0m\u001b[0mself\u001b[0m\u001b[0;34m.\u001b[0m\u001b[0mmax_retries\u001b[0m\u001b[0;34m,\u001b[0m\u001b[0;34m\u001b[0m\u001b[0;34m\u001b[0m\u001b[0m\n\u001b[0;32m--> 449\u001b[0;31m                     \u001b[0mtimeout\u001b[0m\u001b[0;34m=\u001b[0m\u001b[0mtimeout\u001b[0m\u001b[0;34m\u001b[0m\u001b[0;34m\u001b[0m\u001b[0m\n\u001b[0m\u001b[1;32m    450\u001b[0m                 )\n\u001b[1;32m    451\u001b[0m \u001b[0;34m\u001b[0m\u001b[0m\n",
      "\u001b[0;32m~/anaconda3/envs/bts36/lib/python3.6/site-packages/urllib3/connectionpool.py\u001b[0m in \u001b[0;36murlopen\u001b[0;34m(self, method, url, body, headers, retries, redirect, assert_same_host, timeout, pool_timeout, release_conn, chunked, body_pos, **response_kw)\u001b[0m\n\u001b[1;32m    670\u001b[0m                 \u001b[0mbody\u001b[0m\u001b[0;34m=\u001b[0m\u001b[0mbody\u001b[0m\u001b[0;34m,\u001b[0m\u001b[0;34m\u001b[0m\u001b[0;34m\u001b[0m\u001b[0m\n\u001b[1;32m    671\u001b[0m                 \u001b[0mheaders\u001b[0m\u001b[0;34m=\u001b[0m\u001b[0mheaders\u001b[0m\u001b[0;34m,\u001b[0m\u001b[0;34m\u001b[0m\u001b[0;34m\u001b[0m\u001b[0m\n\u001b[0;32m--> 672\u001b[0;31m                 \u001b[0mchunked\u001b[0m\u001b[0;34m=\u001b[0m\u001b[0mchunked\u001b[0m\u001b[0;34m,\u001b[0m\u001b[0;34m\u001b[0m\u001b[0;34m\u001b[0m\u001b[0m\n\u001b[0m\u001b[1;32m    673\u001b[0m             )\n\u001b[1;32m    674\u001b[0m \u001b[0;34m\u001b[0m\u001b[0m\n",
      "\u001b[0;32m~/anaconda3/envs/bts36/lib/python3.6/site-packages/urllib3/connectionpool.py\u001b[0m in \u001b[0;36m_make_request\u001b[0;34m(self, conn, method, url, timeout, chunked, **httplib_request_kw)\u001b[0m\n\u001b[1;32m    419\u001b[0m                     \u001b[0;31m# Python 3 (including for exceptions like SystemExit).\u001b[0m\u001b[0;34m\u001b[0m\u001b[0;34m\u001b[0m\u001b[0;34m\u001b[0m\u001b[0m\n\u001b[1;32m    420\u001b[0m                     \u001b[0;31m# Otherwise it looks like a bug in the code.\u001b[0m\u001b[0;34m\u001b[0m\u001b[0;34m\u001b[0m\u001b[0;34m\u001b[0m\u001b[0m\n\u001b[0;32m--> 421\u001b[0;31m                     \u001b[0msix\u001b[0m\u001b[0;34m.\u001b[0m\u001b[0mraise_from\u001b[0m\u001b[0;34m(\u001b[0m\u001b[0me\u001b[0m\u001b[0;34m,\u001b[0m \u001b[0;32mNone\u001b[0m\u001b[0;34m)\u001b[0m\u001b[0;34m\u001b[0m\u001b[0;34m\u001b[0m\u001b[0m\n\u001b[0m\u001b[1;32m    422\u001b[0m         \u001b[0;32mexcept\u001b[0m \u001b[0;34m(\u001b[0m\u001b[0mSocketTimeout\u001b[0m\u001b[0;34m,\u001b[0m \u001b[0mBaseSSLError\u001b[0m\u001b[0;34m,\u001b[0m \u001b[0mSocketError\u001b[0m\u001b[0;34m)\u001b[0m \u001b[0;32mas\u001b[0m \u001b[0me\u001b[0m\u001b[0;34m:\u001b[0m\u001b[0;34m\u001b[0m\u001b[0;34m\u001b[0m\u001b[0m\n\u001b[1;32m    423\u001b[0m             \u001b[0mself\u001b[0m\u001b[0;34m.\u001b[0m\u001b[0m_raise_timeout\u001b[0m\u001b[0;34m(\u001b[0m\u001b[0merr\u001b[0m\u001b[0;34m=\u001b[0m\u001b[0me\u001b[0m\u001b[0;34m,\u001b[0m \u001b[0murl\u001b[0m\u001b[0;34m=\u001b[0m\u001b[0murl\u001b[0m\u001b[0;34m,\u001b[0m \u001b[0mtimeout_value\u001b[0m\u001b[0;34m=\u001b[0m\u001b[0mread_timeout\u001b[0m\u001b[0;34m)\u001b[0m\u001b[0;34m\u001b[0m\u001b[0;34m\u001b[0m\u001b[0m\n",
      "\u001b[0;32m~/anaconda3/envs/bts36/lib/python3.6/site-packages/urllib3/packages/six.py\u001b[0m in \u001b[0;36mraise_from\u001b[0;34m(value, from_value)\u001b[0m\n",
      "\u001b[0;32m~/anaconda3/envs/bts36/lib/python3.6/site-packages/urllib3/connectionpool.py\u001b[0m in \u001b[0;36m_make_request\u001b[0;34m(self, conn, method, url, timeout, chunked, **httplib_request_kw)\u001b[0m\n\u001b[1;32m    414\u001b[0m                 \u001b[0;31m# Python 3\u001b[0m\u001b[0;34m\u001b[0m\u001b[0;34m\u001b[0m\u001b[0;34m\u001b[0m\u001b[0m\n\u001b[1;32m    415\u001b[0m                 \u001b[0;32mtry\u001b[0m\u001b[0;34m:\u001b[0m\u001b[0;34m\u001b[0m\u001b[0;34m\u001b[0m\u001b[0m\n\u001b[0;32m--> 416\u001b[0;31m                     \u001b[0mhttplib_response\u001b[0m \u001b[0;34m=\u001b[0m \u001b[0mconn\u001b[0m\u001b[0;34m.\u001b[0m\u001b[0mgetresponse\u001b[0m\u001b[0;34m(\u001b[0m\u001b[0;34m)\u001b[0m\u001b[0;34m\u001b[0m\u001b[0;34m\u001b[0m\u001b[0m\n\u001b[0m\u001b[1;32m    417\u001b[0m                 \u001b[0;32mexcept\u001b[0m \u001b[0mBaseException\u001b[0m \u001b[0;32mas\u001b[0m \u001b[0me\u001b[0m\u001b[0;34m:\u001b[0m\u001b[0;34m\u001b[0m\u001b[0;34m\u001b[0m\u001b[0m\n\u001b[1;32m    418\u001b[0m                     \u001b[0;31m# Remove the TypeError from the exception chain in\u001b[0m\u001b[0;34m\u001b[0m\u001b[0;34m\u001b[0m\u001b[0;34m\u001b[0m\u001b[0m\n",
      "\u001b[0;32m~/anaconda3/envs/bts36/lib/python3.6/http/client.py\u001b[0m in \u001b[0;36mgetresponse\u001b[0;34m(self)\u001b[0m\n\u001b[1;32m   1329\u001b[0m         \u001b[0;32mtry\u001b[0m\u001b[0;34m:\u001b[0m\u001b[0;34m\u001b[0m\u001b[0;34m\u001b[0m\u001b[0m\n\u001b[1;32m   1330\u001b[0m             \u001b[0;32mtry\u001b[0m\u001b[0;34m:\u001b[0m\u001b[0;34m\u001b[0m\u001b[0;34m\u001b[0m\u001b[0m\n\u001b[0;32m-> 1331\u001b[0;31m                 \u001b[0mresponse\u001b[0m\u001b[0;34m.\u001b[0m\u001b[0mbegin\u001b[0m\u001b[0;34m(\u001b[0m\u001b[0;34m)\u001b[0m\u001b[0;34m\u001b[0m\u001b[0;34m\u001b[0m\u001b[0m\n\u001b[0m\u001b[1;32m   1332\u001b[0m             \u001b[0;32mexcept\u001b[0m \u001b[0mConnectionError\u001b[0m\u001b[0;34m:\u001b[0m\u001b[0;34m\u001b[0m\u001b[0;34m\u001b[0m\u001b[0m\n\u001b[1;32m   1333\u001b[0m                 \u001b[0mself\u001b[0m\u001b[0;34m.\u001b[0m\u001b[0mclose\u001b[0m\u001b[0;34m(\u001b[0m\u001b[0;34m)\u001b[0m\u001b[0;34m\u001b[0m\u001b[0;34m\u001b[0m\u001b[0m\n",
      "\u001b[0;32m~/anaconda3/envs/bts36/lib/python3.6/http/client.py\u001b[0m in \u001b[0;36mbegin\u001b[0;34m(self)\u001b[0m\n\u001b[1;32m    295\u001b[0m         \u001b[0;31m# read until we get a non-100 response\u001b[0m\u001b[0;34m\u001b[0m\u001b[0;34m\u001b[0m\u001b[0;34m\u001b[0m\u001b[0m\n\u001b[1;32m    296\u001b[0m         \u001b[0;32mwhile\u001b[0m \u001b[0;32mTrue\u001b[0m\u001b[0;34m:\u001b[0m\u001b[0;34m\u001b[0m\u001b[0;34m\u001b[0m\u001b[0m\n\u001b[0;32m--> 297\u001b[0;31m             \u001b[0mversion\u001b[0m\u001b[0;34m,\u001b[0m \u001b[0mstatus\u001b[0m\u001b[0;34m,\u001b[0m \u001b[0mreason\u001b[0m \u001b[0;34m=\u001b[0m \u001b[0mself\u001b[0m\u001b[0;34m.\u001b[0m\u001b[0m_read_status\u001b[0m\u001b[0;34m(\u001b[0m\u001b[0;34m)\u001b[0m\u001b[0;34m\u001b[0m\u001b[0;34m\u001b[0m\u001b[0m\n\u001b[0m\u001b[1;32m    298\u001b[0m             \u001b[0;32mif\u001b[0m \u001b[0mstatus\u001b[0m \u001b[0;34m!=\u001b[0m \u001b[0mCONTINUE\u001b[0m\u001b[0;34m:\u001b[0m\u001b[0;34m\u001b[0m\u001b[0;34m\u001b[0m\u001b[0m\n\u001b[1;32m    299\u001b[0m                 \u001b[0;32mbreak\u001b[0m\u001b[0;34m\u001b[0m\u001b[0;34m\u001b[0m\u001b[0m\n",
      "\u001b[0;32m~/anaconda3/envs/bts36/lib/python3.6/http/client.py\u001b[0m in \u001b[0;36m_read_status\u001b[0;34m(self)\u001b[0m\n\u001b[1;32m    256\u001b[0m \u001b[0;34m\u001b[0m\u001b[0m\n\u001b[1;32m    257\u001b[0m     \u001b[0;32mdef\u001b[0m \u001b[0m_read_status\u001b[0m\u001b[0;34m(\u001b[0m\u001b[0mself\u001b[0m\u001b[0;34m)\u001b[0m\u001b[0;34m:\u001b[0m\u001b[0;34m\u001b[0m\u001b[0;34m\u001b[0m\u001b[0m\n\u001b[0;32m--> 258\u001b[0;31m         \u001b[0mline\u001b[0m \u001b[0;34m=\u001b[0m \u001b[0mstr\u001b[0m\u001b[0;34m(\u001b[0m\u001b[0mself\u001b[0m\u001b[0;34m.\u001b[0m\u001b[0mfp\u001b[0m\u001b[0;34m.\u001b[0m\u001b[0mreadline\u001b[0m\u001b[0;34m(\u001b[0m\u001b[0m_MAXLINE\u001b[0m \u001b[0;34m+\u001b[0m \u001b[0;36m1\u001b[0m\u001b[0;34m)\u001b[0m\u001b[0;34m,\u001b[0m \u001b[0;34m\"iso-8859-1\"\u001b[0m\u001b[0;34m)\u001b[0m\u001b[0;34m\u001b[0m\u001b[0;34m\u001b[0m\u001b[0m\n\u001b[0m\u001b[1;32m    259\u001b[0m         \u001b[0;32mif\u001b[0m \u001b[0mlen\u001b[0m\u001b[0;34m(\u001b[0m\u001b[0mline\u001b[0m\u001b[0;34m)\u001b[0m \u001b[0;34m>\u001b[0m \u001b[0m_MAXLINE\u001b[0m\u001b[0;34m:\u001b[0m\u001b[0;34m\u001b[0m\u001b[0;34m\u001b[0m\u001b[0m\n\u001b[1;32m    260\u001b[0m             \u001b[0;32mraise\u001b[0m \u001b[0mLineTooLong\u001b[0m\u001b[0;34m(\u001b[0m\u001b[0;34m\"status line\"\u001b[0m\u001b[0;34m)\u001b[0m\u001b[0;34m\u001b[0m\u001b[0;34m\u001b[0m\u001b[0m\n",
      "\u001b[0;32m~/anaconda3/envs/bts36/lib/python3.6/socket.py\u001b[0m in \u001b[0;36mreadinto\u001b[0;34m(self, b)\u001b[0m\n\u001b[1;32m    584\u001b[0m         \u001b[0;32mwhile\u001b[0m \u001b[0;32mTrue\u001b[0m\u001b[0;34m:\u001b[0m\u001b[0;34m\u001b[0m\u001b[0;34m\u001b[0m\u001b[0m\n\u001b[1;32m    585\u001b[0m             \u001b[0;32mtry\u001b[0m\u001b[0;34m:\u001b[0m\u001b[0;34m\u001b[0m\u001b[0;34m\u001b[0m\u001b[0m\n\u001b[0;32m--> 586\u001b[0;31m                 \u001b[0;32mreturn\u001b[0m \u001b[0mself\u001b[0m\u001b[0;34m.\u001b[0m\u001b[0m_sock\u001b[0m\u001b[0;34m.\u001b[0m\u001b[0mrecv_into\u001b[0m\u001b[0;34m(\u001b[0m\u001b[0mb\u001b[0m\u001b[0;34m)\u001b[0m\u001b[0;34m\u001b[0m\u001b[0;34m\u001b[0m\u001b[0m\n\u001b[0m\u001b[1;32m    587\u001b[0m             \u001b[0;32mexcept\u001b[0m \u001b[0mtimeout\u001b[0m\u001b[0;34m:\u001b[0m\u001b[0;34m\u001b[0m\u001b[0;34m\u001b[0m\u001b[0m\n\u001b[1;32m    588\u001b[0m                 \u001b[0mself\u001b[0m\u001b[0;34m.\u001b[0m\u001b[0m_timeout_occurred\u001b[0m \u001b[0;34m=\u001b[0m \u001b[0;32mTrue\u001b[0m\u001b[0;34m\u001b[0m\u001b[0;34m\u001b[0m\u001b[0m\n",
      "\u001b[0;32m~/anaconda3/envs/bts36/lib/python3.6/site-packages/urllib3/contrib/pyopenssl.py\u001b[0m in \u001b[0;36mrecv_into\u001b[0;34m(self, *args, **kwargs)\u001b[0m\n\u001b[1;32m    311\u001b[0m     \u001b[0;32mdef\u001b[0m \u001b[0mrecv_into\u001b[0m\u001b[0;34m(\u001b[0m\u001b[0mself\u001b[0m\u001b[0;34m,\u001b[0m \u001b[0;34m*\u001b[0m\u001b[0margs\u001b[0m\u001b[0;34m,\u001b[0m \u001b[0;34m**\u001b[0m\u001b[0mkwargs\u001b[0m\u001b[0;34m)\u001b[0m\u001b[0;34m:\u001b[0m\u001b[0;34m\u001b[0m\u001b[0;34m\u001b[0m\u001b[0m\n\u001b[1;32m    312\u001b[0m         \u001b[0;32mtry\u001b[0m\u001b[0;34m:\u001b[0m\u001b[0;34m\u001b[0m\u001b[0;34m\u001b[0m\u001b[0m\n\u001b[0;32m--> 313\u001b[0;31m             \u001b[0;32mreturn\u001b[0m \u001b[0mself\u001b[0m\u001b[0;34m.\u001b[0m\u001b[0mconnection\u001b[0m\u001b[0;34m.\u001b[0m\u001b[0mrecv_into\u001b[0m\u001b[0;34m(\u001b[0m\u001b[0;34m*\u001b[0m\u001b[0margs\u001b[0m\u001b[0;34m,\u001b[0m \u001b[0;34m**\u001b[0m\u001b[0mkwargs\u001b[0m\u001b[0;34m)\u001b[0m\u001b[0;34m\u001b[0m\u001b[0;34m\u001b[0m\u001b[0m\n\u001b[0m\u001b[1;32m    314\u001b[0m         \u001b[0;32mexcept\u001b[0m \u001b[0mOpenSSL\u001b[0m\u001b[0;34m.\u001b[0m\u001b[0mSSL\u001b[0m\u001b[0;34m.\u001b[0m\u001b[0mSysCallError\u001b[0m \u001b[0;32mas\u001b[0m \u001b[0me\u001b[0m\u001b[0;34m:\u001b[0m\u001b[0;34m\u001b[0m\u001b[0;34m\u001b[0m\u001b[0m\n\u001b[1;32m    315\u001b[0m             \u001b[0;32mif\u001b[0m \u001b[0mself\u001b[0m\u001b[0;34m.\u001b[0m\u001b[0msuppress_ragged_eofs\u001b[0m \u001b[0;32mand\u001b[0m \u001b[0me\u001b[0m\u001b[0;34m.\u001b[0m\u001b[0margs\u001b[0m \u001b[0;34m==\u001b[0m \u001b[0;34m(\u001b[0m\u001b[0;34m-\u001b[0m\u001b[0;36m1\u001b[0m\u001b[0;34m,\u001b[0m \u001b[0;34m\"Unexpected EOF\"\u001b[0m\u001b[0;34m)\u001b[0m\u001b[0;34m:\u001b[0m\u001b[0;34m\u001b[0m\u001b[0;34m\u001b[0m\u001b[0m\n",
      "\u001b[0;32m~/anaconda3/envs/bts36/lib/python3.6/site-packages/OpenSSL/SSL.py\u001b[0m in \u001b[0;36mrecv_into\u001b[0;34m(self, buffer, nbytes, flags)\u001b[0m\n\u001b[1;32m   1819\u001b[0m             \u001b[0mresult\u001b[0m \u001b[0;34m=\u001b[0m \u001b[0m_lib\u001b[0m\u001b[0;34m.\u001b[0m\u001b[0mSSL_peek\u001b[0m\u001b[0;34m(\u001b[0m\u001b[0mself\u001b[0m\u001b[0;34m.\u001b[0m\u001b[0m_ssl\u001b[0m\u001b[0;34m,\u001b[0m \u001b[0mbuf\u001b[0m\u001b[0;34m,\u001b[0m \u001b[0mnbytes\u001b[0m\u001b[0;34m)\u001b[0m\u001b[0;34m\u001b[0m\u001b[0;34m\u001b[0m\u001b[0m\n\u001b[1;32m   1820\u001b[0m         \u001b[0;32melse\u001b[0m\u001b[0;34m:\u001b[0m\u001b[0;34m\u001b[0m\u001b[0;34m\u001b[0m\u001b[0m\n\u001b[0;32m-> 1821\u001b[0;31m             \u001b[0mresult\u001b[0m \u001b[0;34m=\u001b[0m \u001b[0m_lib\u001b[0m\u001b[0;34m.\u001b[0m\u001b[0mSSL_read\u001b[0m\u001b[0;34m(\u001b[0m\u001b[0mself\u001b[0m\u001b[0;34m.\u001b[0m\u001b[0m_ssl\u001b[0m\u001b[0;34m,\u001b[0m \u001b[0mbuf\u001b[0m\u001b[0;34m,\u001b[0m \u001b[0mnbytes\u001b[0m\u001b[0;34m)\u001b[0m\u001b[0;34m\u001b[0m\u001b[0;34m\u001b[0m\u001b[0m\n\u001b[0m\u001b[1;32m   1822\u001b[0m         \u001b[0mself\u001b[0m\u001b[0;34m.\u001b[0m\u001b[0m_raise_ssl_error\u001b[0m\u001b[0;34m(\u001b[0m\u001b[0mself\u001b[0m\u001b[0;34m.\u001b[0m\u001b[0m_ssl\u001b[0m\u001b[0;34m,\u001b[0m \u001b[0mresult\u001b[0m\u001b[0;34m)\u001b[0m\u001b[0;34m\u001b[0m\u001b[0;34m\u001b[0m\u001b[0m\n\u001b[1;32m   1823\u001b[0m \u001b[0;34m\u001b[0m\u001b[0m\n",
      "\u001b[0;31mKeyboardInterrupt\u001b[0m: "
     ]
    }
   ],
   "source": [
    "for i in address_list1:\n",
    "    try:\n",
    "        end_point_list1.append(return_coordinates(i))\n",
    "    except Exception as e:\n",
    "        end_point_list1.append(f\"error: {e}\")"
   ]
  },
  {
   "cell_type": "code",
   "execution_count": null,
   "metadata": {},
   "outputs": [],
   "source": [
    "for i in address_list2:\n",
    "    try:\n",
    "        end_point_list2.append(return_coordinates(i))\n",
    "    except Exception as e:\n",
    "        end_point_list2.append(f\"error: {e}\")"
   ]
  },
  {
   "cell_type": "code",
   "execution_count": null,
   "metadata": {},
   "outputs": [],
   "source": [
    "for i in address_list3:\n",
    "    try:\n",
    "        end_point_list3.append(return_coordinates(i))\n",
    "    except Exception as e:\n",
    "        end_point_list3.append(f\"error: {e}\")"
   ]
  },
  {
   "cell_type": "code",
   "execution_count": null,
   "metadata": {},
   "outputs": [],
   "source": [
    "for i in address_list4:\n",
    "    try:\n",
    "        end_point_list4.append(return_coordinates(i))\n",
    "    except Exception as e:\n",
    "        end_point_list4.append(f\"error: {e}\")"
   ]
  },
  {
   "cell_type": "code",
   "execution_count": 76,
   "metadata": {},
   "outputs": [],
   "source": [
    "order_id_list_final = order_id_list1 + order_id_list2 + order_id_list3 + order_id_list4\n",
    "end_point_list_final = end_point_list1 + end_point_list2 + end_point_list3 + end_point_list4"
   ]
  },
  {
   "cell_type": "code",
   "execution_count": 77,
   "metadata": {},
   "outputs": [
    {
     "name": "stdout",
     "output_type": "stream",
     "text": [
      "1773 1773\n"
     ]
    }
   ],
   "source": [
    "print(len(order_id_list_final), len(end_point_list_final))"
   ]
  },
  {
   "cell_type": "code",
   "execution_count": 80,
   "metadata": {},
   "outputs": [],
   "source": [
    "for i in range(len(end_point_list_final)):\n",
    "    orders.loc[(orders['Order ID'] == order_id_list_final[i]), 'End Point Geo-location'] = end_point_list_final[i]"
   ]
  },
  {
   "cell_type": "code",
   "execution_count": 81,
   "metadata": {},
   "outputs": [
    {
     "data": {
      "text/plain": [
       "Order ID                  0\n",
       "Blood Type                0\n",
       "Hospital ID               0\n",
       "BloodBank ID              0\n",
       "Unix Time                 0\n",
       "Cross Matching            0\n",
       "QTY                       0\n",
       "Address                   0\n",
       "State                     0\n",
       "End Point Geo-location    0\n",
       "dtype: int64"
      ]
     },
     "execution_count": 81,
     "metadata": {},
     "output_type": "execute_result"
    }
   ],
   "source": [
    "orders.isnull().sum()"
   ]
  },
  {
   "cell_type": "markdown",
   "metadata": {},
   "source": [
    "However, we still have cases where the geolocation have errors because of incorrect address, let's see:"
   ]
  },
  {
   "cell_type": "code",
   "execution_count": 90,
   "metadata": {},
   "outputs": [
    {
     "name": "stdout",
     "output_type": "stream",
     "text": [
      "error indexes for geolocation: [583, 1424, 1830, 2064, 2456, 2458, 3919, 3952, 3954, 3977, 4022, 4097, 4122, 4277, 4326, 4336, 4746, 4765, 4796, 4893, 4895, 4912, 5163, 6013, 6014, 6047, 6267, 6327, 6358, 6392, 6406, 6899]\n"
     ]
    }
   ],
   "source": [
    "error_idx = []\n",
    "for i, j in enumerate(orders['End Point Geo-location']):\n",
    "    if j.startswith('error'):\n",
    "        error_idx.append(i)\n",
    "print(\"error indexes for geolocation:\", error_idx)"
   ]
  },
  {
   "cell_type": "code",
   "execution_count": 93,
   "metadata": {},
   "outputs": [
    {
     "data": {
      "text/html": [
       "<div>\n",
       "<style scoped>\n",
       "    .dataframe tbody tr th:only-of-type {\n",
       "        vertical-align: middle;\n",
       "    }\n",
       "\n",
       "    .dataframe tbody tr th {\n",
       "        vertical-align: top;\n",
       "    }\n",
       "\n",
       "    .dataframe thead th {\n",
       "        text-align: right;\n",
       "    }\n",
       "</style>\n",
       "<table border=\"1\" class=\"dataframe\">\n",
       "  <thead>\n",
       "    <tr style=\"text-align: right;\">\n",
       "      <th></th>\n",
       "      <th>Order ID</th>\n",
       "      <th>Blood Type</th>\n",
       "      <th>Hospital ID</th>\n",
       "      <th>BloodBank ID</th>\n",
       "      <th>Unix Time</th>\n",
       "      <th>Cross Matching</th>\n",
       "      <th>QTY</th>\n",
       "      <th>Address</th>\n",
       "      <th>State</th>\n",
       "      <th>End Point Geo-location</th>\n",
       "    </tr>\n",
       "  </thead>\n",
       "  <tbody>\n",
       "    <tr>\n",
       "      <td>583</td>\n",
       "      <td>719</td>\n",
       "      <td>O+</td>\n",
       "      <td>6812475</td>\n",
       "      <td>73549</td>\n",
       "      <td>1499426645</td>\n",
       "      <td>Yes</td>\n",
       "      <td>2</td>\n",
       "      <td>1 - 3 Broad St, Odan,</td>\n",
       "      <td>Lagos</td>\n",
       "      <td>error: list index out of range</td>\n",
       "    </tr>\n",
       "    <tr>\n",
       "      <td>1424</td>\n",
       "      <td>1720</td>\n",
       "      <td>O+</td>\n",
       "      <td>781394</td>\n",
       "      <td>7921508</td>\n",
       "      <td>1526475079</td>\n",
       "      <td>No</td>\n",
       "      <td>1</td>\n",
       "      <td>1, Akindele Street, Gbagada.</td>\n",
       "      <td>Lagos</td>\n",
       "      <td>error: ('Connection aborted.', OSError(\"(54, '...</td>\n",
       "    </tr>\n",
       "    <tr>\n",
       "      <td>1830</td>\n",
       "      <td>2219</td>\n",
       "      <td>O-</td>\n",
       "      <td>6812475</td>\n",
       "      <td>7921508</td>\n",
       "      <td>1535285521</td>\n",
       "      <td>Yes</td>\n",
       "      <td>2</td>\n",
       "      <td>1 - 3 Broad St, Odan,</td>\n",
       "      <td>Lagos</td>\n",
       "      <td>error: list index out of range</td>\n",
       "    </tr>\n",
       "    <tr>\n",
       "      <td>2064</td>\n",
       "      <td>2493</td>\n",
       "      <td>O+</td>\n",
       "      <td>6812475</td>\n",
       "      <td>7921508</td>\n",
       "      <td>1539797156</td>\n",
       "      <td>Yes</td>\n",
       "      <td>1</td>\n",
       "      <td>1 - 3 Broad St, Odan,</td>\n",
       "      <td>Lagos</td>\n",
       "      <td>error: list index out of range</td>\n",
       "    </tr>\n",
       "    <tr>\n",
       "      <td>2456</td>\n",
       "      <td>2918</td>\n",
       "      <td>O+</td>\n",
       "      <td>6812475</td>\n",
       "      <td>7921508</td>\n",
       "      <td>1546102217</td>\n",
       "      <td>Yes</td>\n",
       "      <td>2</td>\n",
       "      <td>1 - 3 Broad St, Odan,</td>\n",
       "      <td>Lagos</td>\n",
       "      <td>error: list index out of range</td>\n",
       "    </tr>\n",
       "    <tr>\n",
       "      <td>2458</td>\n",
       "      <td>2920</td>\n",
       "      <td>O+</td>\n",
       "      <td>6812475</td>\n",
       "      <td>7921508</td>\n",
       "      <td>1546116655</td>\n",
       "      <td>Yes</td>\n",
       "      <td>2</td>\n",
       "      <td>1 - 3 Broad St, Odan,</td>\n",
       "      <td>Lagos</td>\n",
       "      <td>error: list index out of range</td>\n",
       "    </tr>\n",
       "    <tr>\n",
       "      <td>3919</td>\n",
       "      <td>4626</td>\n",
       "      <td>O+</td>\n",
       "      <td>6812475</td>\n",
       "      <td>6540732</td>\n",
       "      <td>1559895876</td>\n",
       "      <td>Yes</td>\n",
       "      <td>1</td>\n",
       "      <td>1 - 3 Broad St, Odan,</td>\n",
       "      <td>Lagos</td>\n",
       "      <td>error: list index out of range</td>\n",
       "    </tr>\n",
       "    <tr>\n",
       "      <td>3952</td>\n",
       "      <td>4665</td>\n",
       "      <td>O+</td>\n",
       "      <td>6812475</td>\n",
       "      <td>6528941</td>\n",
       "      <td>1560267943</td>\n",
       "      <td>Yes</td>\n",
       "      <td>1</td>\n",
       "      <td>1 - 3 Broad St, Odan,</td>\n",
       "      <td>Lagos</td>\n",
       "      <td>error: list index out of range</td>\n",
       "    </tr>\n",
       "    <tr>\n",
       "      <td>3954</td>\n",
       "      <td>4667</td>\n",
       "      <td>O+</td>\n",
       "      <td>6812475</td>\n",
       "      <td>7921508</td>\n",
       "      <td>1560273210</td>\n",
       "      <td>Yes</td>\n",
       "      <td>2</td>\n",
       "      <td>1 - 3 Broad St, Odan,</td>\n",
       "      <td>Lagos</td>\n",
       "      <td>error: list index out of range</td>\n",
       "    </tr>\n",
       "    <tr>\n",
       "      <td>3977</td>\n",
       "      <td>4690</td>\n",
       "      <td>A+</td>\n",
       "      <td>1437605</td>\n",
       "      <td>6540732</td>\n",
       "      <td>1560432977</td>\n",
       "      <td>Yes</td>\n",
       "      <td>1</td>\n",
       "      <td>3, Ade-adenaike Street, Irawo Bus stop Owode, ...</td>\n",
       "      <td>Lagos</td>\n",
       "      <td>error: list index out of range</td>\n",
       "    </tr>\n",
       "    <tr>\n",
       "      <td>4022</td>\n",
       "      <td>4738</td>\n",
       "      <td>O-</td>\n",
       "      <td>6812475</td>\n",
       "      <td>6528941</td>\n",
       "      <td>1560789386</td>\n",
       "      <td>Yes</td>\n",
       "      <td>1</td>\n",
       "      <td>1 - 3 Broad St, Odan,</td>\n",
       "      <td>Lagos</td>\n",
       "      <td>error: list index out of range</td>\n",
       "    </tr>\n",
       "    <tr>\n",
       "      <td>4097</td>\n",
       "      <td>4818</td>\n",
       "      <td>A+</td>\n",
       "      <td>6812475</td>\n",
       "      <td>4109786</td>\n",
       "      <td>1561314710</td>\n",
       "      <td>Yes</td>\n",
       "      <td>1</td>\n",
       "      <td>1 - 3 Broad St, Odan,</td>\n",
       "      <td>Lagos</td>\n",
       "      <td>error: list index out of range</td>\n",
       "    </tr>\n",
       "    <tr>\n",
       "      <td>4122</td>\n",
       "      <td>4846</td>\n",
       "      <td>O+</td>\n",
       "      <td>6812475</td>\n",
       "      <td>6540732</td>\n",
       "      <td>1561560072</td>\n",
       "      <td>Yes</td>\n",
       "      <td>1</td>\n",
       "      <td>1 - 3 Broad St, Odan,</td>\n",
       "      <td>Lagos</td>\n",
       "      <td>error: list index out of range</td>\n",
       "    </tr>\n",
       "    <tr>\n",
       "      <td>4277</td>\n",
       "      <td>5023</td>\n",
       "      <td>O+</td>\n",
       "      <td>6812475</td>\n",
       "      <td>7921508</td>\n",
       "      <td>1563136221</td>\n",
       "      <td>Yes</td>\n",
       "      <td>2</td>\n",
       "      <td>1 - 3 Broad St, Odan,</td>\n",
       "      <td>Lagos</td>\n",
       "      <td>error: list index out of range</td>\n",
       "    </tr>\n",
       "    <tr>\n",
       "      <td>4326</td>\n",
       "      <td>5083</td>\n",
       "      <td>O+</td>\n",
       "      <td>6812475</td>\n",
       "      <td>6528941</td>\n",
       "      <td>1563562202</td>\n",
       "      <td>Yes</td>\n",
       "      <td>2</td>\n",
       "      <td>1 - 3 Broad St, Odan,</td>\n",
       "      <td>Lagos</td>\n",
       "      <td>error: list index out of range</td>\n",
       "    </tr>\n",
       "    <tr>\n",
       "      <td>4336</td>\n",
       "      <td>5093</td>\n",
       "      <td>O-</td>\n",
       "      <td>6812475</td>\n",
       "      <td>73549</td>\n",
       "      <td>1563624669</td>\n",
       "      <td>Yes</td>\n",
       "      <td>1</td>\n",
       "      <td>1 - 3 Broad St, Odan,</td>\n",
       "      <td>Lagos</td>\n",
       "      <td>error: list index out of range</td>\n",
       "    </tr>\n",
       "    <tr>\n",
       "      <td>4746</td>\n",
       "      <td>5557</td>\n",
       "      <td>A-</td>\n",
       "      <td>6812475</td>\n",
       "      <td>73549</td>\n",
       "      <td>1567173160</td>\n",
       "      <td>Yes</td>\n",
       "      <td>2</td>\n",
       "      <td>1 - 3 Broad St, Odan,</td>\n",
       "      <td>Lagos</td>\n",
       "      <td>error: list index out of range</td>\n",
       "    </tr>\n",
       "    <tr>\n",
       "      <td>4765</td>\n",
       "      <td>5577</td>\n",
       "      <td>O-</td>\n",
       "      <td>6812475</td>\n",
       "      <td>73549</td>\n",
       "      <td>1567292405</td>\n",
       "      <td>Yes</td>\n",
       "      <td>1</td>\n",
       "      <td>1 - 3 Broad St, Odan,</td>\n",
       "      <td>Lagos</td>\n",
       "      <td>error: list index out of range</td>\n",
       "    </tr>\n",
       "    <tr>\n",
       "      <td>4796</td>\n",
       "      <td>5610</td>\n",
       "      <td>O-</td>\n",
       "      <td>475819</td>\n",
       "      <td>6581907</td>\n",
       "      <td>1567506341</td>\n",
       "      <td>Yes</td>\n",
       "      <td>2</td>\n",
       "      <td>38 Cotonou Crescent Zone 6, Wuse, Abuja.</td>\n",
       "      <td>Abuja</td>\n",
       "      <td>error: ('Connection aborted.', RemoteDisconnec...</td>\n",
       "    </tr>\n",
       "    <tr>\n",
       "      <td>4893</td>\n",
       "      <td>5804</td>\n",
       "      <td>O+</td>\n",
       "      <td>6812475</td>\n",
       "      <td>7921508</td>\n",
       "      <td>1568238594</td>\n",
       "      <td>Yes</td>\n",
       "      <td>2</td>\n",
       "      <td>1 - 3 Broad St, Odan,</td>\n",
       "      <td>Lagos</td>\n",
       "      <td>error: list index out of range</td>\n",
       "    </tr>\n",
       "    <tr>\n",
       "      <td>4895</td>\n",
       "      <td>5806</td>\n",
       "      <td>O+</td>\n",
       "      <td>6812475</td>\n",
       "      <td>7921508</td>\n",
       "      <td>1568277659</td>\n",
       "      <td>Yes</td>\n",
       "      <td>2</td>\n",
       "      <td>1 - 3 Broad St, Odan,</td>\n",
       "      <td>Lagos</td>\n",
       "      <td>error: ('Connection aborted.', RemoteDisconnec...</td>\n",
       "    </tr>\n",
       "    <tr>\n",
       "      <td>4912</td>\n",
       "      <td>5825</td>\n",
       "      <td>O+</td>\n",
       "      <td>6812475</td>\n",
       "      <td>7921508</td>\n",
       "      <td>1568348966</td>\n",
       "      <td>Yes</td>\n",
       "      <td>3</td>\n",
       "      <td>1 - 3 Broad St, Odan,</td>\n",
       "      <td>Lagos</td>\n",
       "      <td>error: list index out of range</td>\n",
       "    </tr>\n",
       "    <tr>\n",
       "      <td>5163</td>\n",
       "      <td>6158</td>\n",
       "      <td>O+</td>\n",
       "      <td>1308256</td>\n",
       "      <td>793812</td>\n",
       "      <td>1570193921</td>\n",
       "      <td>Yes</td>\n",
       "      <td>1</td>\n",
       "      <td>last gate, opposite market, after police stati...</td>\n",
       "      <td>Abuja</td>\n",
       "      <td>error: list index out of range</td>\n",
       "    </tr>\n",
       "    <tr>\n",
       "      <td>6013</td>\n",
       "      <td>7320</td>\n",
       "      <td>O-</td>\n",
       "      <td>4051798</td>\n",
       "      <td>6459238</td>\n",
       "      <td>1576411940</td>\n",
       "      <td>Yes</td>\n",
       "      <td>1</td>\n",
       "      <td>IDU/KARMO Opposite Furniture Market</td>\n",
       "      <td>Abuja</td>\n",
       "      <td>error: list index out of range</td>\n",
       "    </tr>\n",
       "    <tr>\n",
       "      <td>6014</td>\n",
       "      <td>7321</td>\n",
       "      <td>O-</td>\n",
       "      <td>4051798</td>\n",
       "      <td>6459238</td>\n",
       "      <td>1576412275</td>\n",
       "      <td>Yes</td>\n",
       "      <td>1</td>\n",
       "      <td>IDU/KARMO Opposite Furniture Market</td>\n",
       "      <td>Abuja</td>\n",
       "      <td>error: list index out of range</td>\n",
       "    </tr>\n",
       "    <tr>\n",
       "      <td>6047</td>\n",
       "      <td>7357</td>\n",
       "      <td>B+</td>\n",
       "      <td>9470856</td>\n",
       "      <td>793812</td>\n",
       "      <td>1576619449</td>\n",
       "      <td>Yes</td>\n",
       "      <td>2</td>\n",
       "      <td>Block Industry Kurudu</td>\n",
       "      <td>Abuja</td>\n",
       "      <td>error: list index out of range</td>\n",
       "    </tr>\n",
       "    <tr>\n",
       "      <td>6267</td>\n",
       "      <td>7595</td>\n",
       "      <td>O+</td>\n",
       "      <td>3672089</td>\n",
       "      <td>73549</td>\n",
       "      <td>1578601950</td>\n",
       "      <td>Yes</td>\n",
       "      <td>1</td>\n",
       "      <td>5 Imam Thani Street</td>\n",
       "      <td>Lagos</td>\n",
       "      <td>error: list index out of range</td>\n",
       "    </tr>\n",
       "    <tr>\n",
       "      <td>6327</td>\n",
       "      <td>7671</td>\n",
       "      <td>O+</td>\n",
       "      <td>6812475</td>\n",
       "      <td>73549</td>\n",
       "      <td>1579190963</td>\n",
       "      <td>Yes</td>\n",
       "      <td>1</td>\n",
       "      <td>1 - 3 Broad St, Odan,</td>\n",
       "      <td>Lagos</td>\n",
       "      <td>error: list index out of range</td>\n",
       "    </tr>\n",
       "    <tr>\n",
       "      <td>6358</td>\n",
       "      <td>7705</td>\n",
       "      <td>O+</td>\n",
       "      <td>6812475</td>\n",
       "      <td>3852491</td>\n",
       "      <td>1579447134</td>\n",
       "      <td>No</td>\n",
       "      <td>1</td>\n",
       "      <td>1 - 3 Broad St, Odan,</td>\n",
       "      <td>Lagos</td>\n",
       "      <td>error: list index out of range</td>\n",
       "    </tr>\n",
       "    <tr>\n",
       "      <td>6392</td>\n",
       "      <td>7740</td>\n",
       "      <td>O+</td>\n",
       "      <td>6812475</td>\n",
       "      <td>7921508</td>\n",
       "      <td>1579620662</td>\n",
       "      <td>No</td>\n",
       "      <td>2</td>\n",
       "      <td>1 - 3 Broad St, Odan,</td>\n",
       "      <td>Lagos</td>\n",
       "      <td>error: list index out of range</td>\n",
       "    </tr>\n",
       "    <tr>\n",
       "      <td>6406</td>\n",
       "      <td>7755</td>\n",
       "      <td>O+</td>\n",
       "      <td>6812475</td>\n",
       "      <td>73549</td>\n",
       "      <td>1579695471</td>\n",
       "      <td>No</td>\n",
       "      <td>1</td>\n",
       "      <td>1 - 3 Broad St, Odan,</td>\n",
       "      <td>Lagos</td>\n",
       "      <td>error: list index out of range</td>\n",
       "    </tr>\n",
       "    <tr>\n",
       "      <td>6899</td>\n",
       "      <td>8302</td>\n",
       "      <td>O+</td>\n",
       "      <td>6812475</td>\n",
       "      <td>3852491</td>\n",
       "      <td>1582819891</td>\n",
       "      <td>No</td>\n",
       "      <td>4</td>\n",
       "      <td>1 - 3 Broad St, Odan,</td>\n",
       "      <td>Lagos</td>\n",
       "      <td>error: list index out of range</td>\n",
       "    </tr>\n",
       "  </tbody>\n",
       "</table>\n",
       "</div>"
      ],
      "text/plain": [
       "      Order ID Blood Type  Hospital ID  BloodBank ID   Unix Time  \\\n",
       "583        719         O+      6812475         73549  1499426645   \n",
       "1424      1720         O+       781394       7921508  1526475079   \n",
       "1830      2219         O-      6812475       7921508  1535285521   \n",
       "2064      2493         O+      6812475       7921508  1539797156   \n",
       "2456      2918         O+      6812475       7921508  1546102217   \n",
       "2458      2920         O+      6812475       7921508  1546116655   \n",
       "3919      4626         O+      6812475       6540732  1559895876   \n",
       "3952      4665         O+      6812475       6528941  1560267943   \n",
       "3954      4667         O+      6812475       7921508  1560273210   \n",
       "3977      4690         A+      1437605       6540732  1560432977   \n",
       "4022      4738         O-      6812475       6528941  1560789386   \n",
       "4097      4818         A+      6812475       4109786  1561314710   \n",
       "4122      4846         O+      6812475       6540732  1561560072   \n",
       "4277      5023         O+      6812475       7921508  1563136221   \n",
       "4326      5083         O+      6812475       6528941  1563562202   \n",
       "4336      5093         O-      6812475         73549  1563624669   \n",
       "4746      5557         A-      6812475         73549  1567173160   \n",
       "4765      5577         O-      6812475         73549  1567292405   \n",
       "4796      5610         O-       475819       6581907  1567506341   \n",
       "4893      5804         O+      6812475       7921508  1568238594   \n",
       "4895      5806         O+      6812475       7921508  1568277659   \n",
       "4912      5825         O+      6812475       7921508  1568348966   \n",
       "5163      6158         O+      1308256        793812  1570193921   \n",
       "6013      7320         O-      4051798       6459238  1576411940   \n",
       "6014      7321         O-      4051798       6459238  1576412275   \n",
       "6047      7357         B+      9470856        793812  1576619449   \n",
       "6267      7595         O+      3672089         73549  1578601950   \n",
       "6327      7671         O+      6812475         73549  1579190963   \n",
       "6358      7705         O+      6812475       3852491  1579447134   \n",
       "6392      7740         O+      6812475       7921508  1579620662   \n",
       "6406      7755         O+      6812475         73549  1579695471   \n",
       "6899      8302         O+      6812475       3852491  1582819891   \n",
       "\n",
       "     Cross Matching  QTY                                           Address   \\\n",
       "583             Yes    2                              1 - 3 Broad St, Odan,   \n",
       "1424             No    1                       1, Akindele Street, Gbagada.   \n",
       "1830            Yes    2                              1 - 3 Broad St, Odan,   \n",
       "2064            Yes    1                              1 - 3 Broad St, Odan,   \n",
       "2456            Yes    2                              1 - 3 Broad St, Odan,   \n",
       "2458            Yes    2                              1 - 3 Broad St, Odan,   \n",
       "3919            Yes    1                              1 - 3 Broad St, Odan,   \n",
       "3952            Yes    1                              1 - 3 Broad St, Odan,   \n",
       "3954            Yes    2                              1 - 3 Broad St, Odan,   \n",
       "3977            Yes    1  3, Ade-adenaike Street, Irawo Bus stop Owode, ...   \n",
       "4022            Yes    1                              1 - 3 Broad St, Odan,   \n",
       "4097            Yes    1                              1 - 3 Broad St, Odan,   \n",
       "4122            Yes    1                              1 - 3 Broad St, Odan,   \n",
       "4277            Yes    2                              1 - 3 Broad St, Odan,   \n",
       "4326            Yes    2                              1 - 3 Broad St, Odan,   \n",
       "4336            Yes    1                              1 - 3 Broad St, Odan,   \n",
       "4746            Yes    2                              1 - 3 Broad St, Odan,   \n",
       "4765            Yes    1                              1 - 3 Broad St, Odan,   \n",
       "4796            Yes    2           38 Cotonou Crescent Zone 6, Wuse, Abuja.   \n",
       "4893            Yes    2                              1 - 3 Broad St, Odan,   \n",
       "4895            Yes    2                              1 - 3 Broad St, Odan,   \n",
       "4912            Yes    3                              1 - 3 Broad St, Odan,   \n",
       "5163            Yes    1  last gate, opposite market, after police stati...   \n",
       "6013            Yes    1                IDU/KARMO Opposite Furniture Market   \n",
       "6014            Yes    1                IDU/KARMO Opposite Furniture Market   \n",
       "6047            Yes    2                              Block Industry Kurudu   \n",
       "6267            Yes    1                                5 Imam Thani Street   \n",
       "6327            Yes    1                              1 - 3 Broad St, Odan,   \n",
       "6358             No    1                              1 - 3 Broad St, Odan,   \n",
       "6392             No    2                              1 - 3 Broad St, Odan,   \n",
       "6406             No    1                              1 - 3 Broad St, Odan,   \n",
       "6899             No    4                              1 - 3 Broad St, Odan,   \n",
       "\n",
       "      State                             End Point Geo-location  \n",
       "583   Lagos                     error: list index out of range  \n",
       "1424  Lagos  error: ('Connection aborted.', OSError(\"(54, '...  \n",
       "1830  Lagos                     error: list index out of range  \n",
       "2064  Lagos                     error: list index out of range  \n",
       "2456  Lagos                     error: list index out of range  \n",
       "2458  Lagos                     error: list index out of range  \n",
       "3919  Lagos                     error: list index out of range  \n",
       "3952  Lagos                     error: list index out of range  \n",
       "3954  Lagos                     error: list index out of range  \n",
       "3977  Lagos                     error: list index out of range  \n",
       "4022  Lagos                     error: list index out of range  \n",
       "4097  Lagos                     error: list index out of range  \n",
       "4122  Lagos                     error: list index out of range  \n",
       "4277  Lagos                     error: list index out of range  \n",
       "4326  Lagos                     error: list index out of range  \n",
       "4336  Lagos                     error: list index out of range  \n",
       "4746  Lagos                     error: list index out of range  \n",
       "4765  Lagos                     error: list index out of range  \n",
       "4796  Abuja  error: ('Connection aborted.', RemoteDisconnec...  \n",
       "4893  Lagos                     error: list index out of range  \n",
       "4895  Lagos  error: ('Connection aborted.', RemoteDisconnec...  \n",
       "4912  Lagos                     error: list index out of range  \n",
       "5163  Abuja                     error: list index out of range  \n",
       "6013  Abuja                     error: list index out of range  \n",
       "6014  Abuja                     error: list index out of range  \n",
       "6047  Abuja                     error: list index out of range  \n",
       "6267  Lagos                     error: list index out of range  \n",
       "6327  Lagos                     error: list index out of range  \n",
       "6358  Lagos                     error: list index out of range  \n",
       "6392  Lagos                     error: list index out of range  \n",
       "6406  Lagos                     error: list index out of range  \n",
       "6899  Lagos                     error: list index out of range  "
      ]
     },
     "execution_count": 93,
     "metadata": {},
     "output_type": "execute_result"
    }
   ],
   "source": [
    "orders[orders.index.isin(error_idx)]"
   ]
  },
  {
   "cell_type": "code",
   "execution_count": 108,
   "metadata": {},
   "outputs": [
    {
     "name": "stdout",
     "output_type": "stream",
     "text": [
      "['1 - 3 Broad St, Odan,' '1, Akindele Street, Gbagada.'\n",
      " '3, Ade-adenaike Street, Irawo Bus stop Owode, Ajegunle.'\n",
      " '38 Cotonou Crescent Zone 6, Wuse, Abuja.'\n",
      " 'last gate, opposite market, after police station, karimo'\n",
      " 'IDU/KARMO Opposite Furniture Market' 'Block Industry Kurudu'\n",
      " '5 Imam Thani Street']\n",
      "total unique list of incorrect places: 8\n"
     ]
    }
   ],
   "source": [
    "print(orders[orders.index.isin(error_idx)]['Address '].unique())\n",
    "print(\"total unique list of incorrect places:\", len(orders[orders.index.isin(error_idx)]['Address '].unique()))"
   ]
  },
  {
   "cell_type": "markdown",
   "metadata": {},
   "source": [
    "Let's first sort out the connection error ones:"
   ]
  },
  {
   "cell_type": "code",
   "execution_count": 100,
   "metadata": {},
   "outputs": [],
   "source": [
    "#1, Akindele Street, Gbagada.\n",
    "orders.loc[(orders['Address '] == '1, Akindele Street, Gbagada.'), 'End Point Geo-location'] = return_coordinates('1, Akindele Street, Gbagada.')\n",
    "\n",
    "#38 Cotonou Crescent Zone 6, Wuse, Abuja\n",
    "orders.loc[(orders['Address '] == '38 Cotonou Crescent Zone 6, Wuse, Abuja.'), 'End Point Geo-location'] = return_coordinates('38 Cotonou Crescent Zone 6, Wuse, Abuja.')"
   ]
  },
  {
   "cell_type": "markdown",
   "metadata": {},
   "source": [
    "Now the rest manually fill in from Google Map Search:"
   ]
  },
  {
   "cell_type": "code",
   "execution_count": 110,
   "metadata": {},
   "outputs": [],
   "source": [
    "#'1 - 3 Broad St, Odan,'\n",
    "orders.loc[(orders['Address '] == '1 - 3 Broad St, Odan,'), 'End Point Geo-location'] = '6.453957,3.389601'\n",
    "\n",
    "#3, Ade-adenaike Street, Irawo Bus stop Owode, Ajegunle.\n",
    "#not sure what this is from Google Maps therefore will drop this\n",
    "orders = orders[orders['Address '] != '3, Ade-adenaike Street, Irawo Bus stop Owode, Ajegunle.']\n",
    "\n",
    "#'last gate, opposite market, after police station, karimo'\n",
    "#not sure what this is from Google Maps therefore will drop this\n",
    "orders = orders[orders['Address '] != 'last gate, opposite market, after police station, karimo']\n",
    "\n",
    "#'IDU/KARMO Opposite Furniture Market'\n",
    "#not sure what this is from Google Maps therefore will drop this\n",
    "orders = orders[orders['Address '] != 'IDU/KARMO Opposite Furniture Market']\n",
    "\n",
    "#'Block Industry Kurudu'\n",
    "#not sure what this is from Google Maps therefore will drop this\n",
    "orders = orders[orders['Address '] != 'Block Industry Kurudu']\n",
    "\n",
    "#'5 Imam Thani Street'\n",
    "orders.loc[(orders['Address '] == '5 Imam Thani Street'), 'End Point Geo-location'] = '6.493762,3.349031'\n",
    "\n",
    "orders = orders.reset_index(drop=True)"
   ]
  },
  {
   "cell_type": "code",
   "execution_count": 112,
   "metadata": {},
   "outputs": [
    {
     "name": "stdout",
     "output_type": "stream",
     "text": [
      "there are no more geo errors\n"
     ]
    }
   ],
   "source": [
    "error_idx = []\n",
    "for i, j in enumerate(orders['End Point Geo-location']):\n",
    "    if j.startswith('error'):\n",
    "        error_idx.append(i)\n",
    "if len(error_idx) == 0:\n",
    "    print(\"there are no more geo errors\")\n",
    "else:\n",
    "    print(\"there are still geo errors\")"
   ]
  },
  {
   "cell_type": "code",
   "execution_count": 177,
   "metadata": {},
   "outputs": [
    {
     "data": {
      "text/plain": [
       "Order ID                  0\n",
       "Blood Type                0\n",
       "Hospital ID               0\n",
       "BloodBank ID              0\n",
       "Unix Time                 0\n",
       "Cross Matching            0\n",
       "QTY                       0\n",
       "Address                   0\n",
       "State                     0\n",
       "End Point Geo-location    0\n",
       "dtype: int64"
      ]
     },
     "execution_count": 177,
     "metadata": {},
     "output_type": "execute_result"
    }
   ],
   "source": [
    "orders.isnull().sum()"
   ]
  },
  {
   "cell_type": "code",
   "execution_count": 118,
   "metadata": {},
   "outputs": [],
   "source": [
    "orders.to_csv('orders_clean.csv', index=False)"
   ]
  },
  {
   "cell_type": "code",
   "execution_count": 120,
   "metadata": {},
   "outputs": [
    {
     "data": {
      "text/html": [
       "<div>\n",
       "<style scoped>\n",
       "    .dataframe tbody tr th:only-of-type {\n",
       "        vertical-align: middle;\n",
       "    }\n",
       "\n",
       "    .dataframe tbody tr th {\n",
       "        vertical-align: top;\n",
       "    }\n",
       "\n",
       "    .dataframe thead th {\n",
       "        text-align: right;\n",
       "    }\n",
       "</style>\n",
       "<table border=\"1\" class=\"dataframe\">\n",
       "  <thead>\n",
       "    <tr style=\"text-align: right;\">\n",
       "      <th></th>\n",
       "      <th>Order ID</th>\n",
       "      <th>Blood Type</th>\n",
       "      <th>Hospital ID</th>\n",
       "      <th>BloodBank ID</th>\n",
       "      <th>Unix Time</th>\n",
       "      <th>Cross Matching</th>\n",
       "      <th>QTY</th>\n",
       "      <th>Address</th>\n",
       "      <th>State</th>\n",
       "      <th>End Point Geo-location</th>\n",
       "    </tr>\n",
       "  </thead>\n",
       "  <tbody>\n",
       "    <tr>\n",
       "      <td>0</td>\n",
       "      <td>1</td>\n",
       "      <td>B+</td>\n",
       "      <td>2154730</td>\n",
       "      <td>1</td>\n",
       "      <td>1466034200</td>\n",
       "      <td>Yes</td>\n",
       "      <td>5</td>\n",
       "      <td>Military Hospital, Igbogbi, Lagos</td>\n",
       "      <td>Lagos</td>\n",
       "      <td>6.5224642,3.3734771</td>\n",
       "    </tr>\n",
       "    <tr>\n",
       "      <td>1</td>\n",
       "      <td>2</td>\n",
       "      <td>O+</td>\n",
       "      <td>1250873</td>\n",
       "      <td>1</td>\n",
       "      <td>1466726300</td>\n",
       "      <td>Yes</td>\n",
       "      <td>1</td>\n",
       "      <td>General Hospital Road, Araromi, Gbagada, Lagos</td>\n",
       "      <td>Lagos</td>\n",
       "      <td>6.5529208,3.3880537</td>\n",
       "    </tr>\n",
       "    <tr>\n",
       "      <td>2</td>\n",
       "      <td>3</td>\n",
       "      <td>O+</td>\n",
       "      <td>9215804</td>\n",
       "      <td>2104756</td>\n",
       "      <td>1472048755</td>\n",
       "      <td>No</td>\n",
       "      <td>5</td>\n",
       "      <td>12 Idowu Martins Street Victoria Island</td>\n",
       "      <td>Lagos</td>\n",
       "      <td>6.4332852,3.420224</td>\n",
       "    </tr>\n",
       "    <tr>\n",
       "      <td>3</td>\n",
       "      <td>4</td>\n",
       "      <td>O+</td>\n",
       "      <td>6873095</td>\n",
       "      <td>0</td>\n",
       "      <td>1469059200</td>\n",
       "      <td>Yes</td>\n",
       "      <td>2</td>\n",
       "      <td>28, david ogundele street, olude compound b/stop</td>\n",
       "      <td>Lagos</td>\n",
       "      <td>6.610150699999999,3.2571244</td>\n",
       "    </tr>\n",
       "    <tr>\n",
       "      <td>4</td>\n",
       "      <td>5</td>\n",
       "      <td>O+</td>\n",
       "      <td>1890375</td>\n",
       "      <td>0</td>\n",
       "      <td>1469059201</td>\n",
       "      <td>Yes</td>\n",
       "      <td>2</td>\n",
       "      <td>155, Akowonjo Road, Opposite Four Square Gospe...</td>\n",
       "      <td>Lagos</td>\n",
       "      <td>6.602106699999999,3.3055263</td>\n",
       "    </tr>\n",
       "  </tbody>\n",
       "</table>\n",
       "</div>"
      ],
      "text/plain": [
       "   Order ID Blood Type  Hospital ID  BloodBank ID   Unix Time Cross Matching  \\\n",
       "0         1         B+      2154730             1  1466034200            Yes   \n",
       "1         2         O+      1250873             1  1466726300            Yes   \n",
       "2         3         O+      9215804       2104756  1472048755             No   \n",
       "3         4         O+      6873095             0  1469059200            Yes   \n",
       "4         5         O+      1890375             0  1469059201            Yes   \n",
       "\n",
       "   QTY                                           Address   State  \\\n",
       "0    5                  Military Hospital, Igbogbi, Lagos  Lagos   \n",
       "1    1     General Hospital Road, Araromi, Gbagada, Lagos  Lagos   \n",
       "2    5            12 Idowu Martins Street Victoria Island  Lagos   \n",
       "3    2   28, david ogundele street, olude compound b/stop  Lagos   \n",
       "4    2  155, Akowonjo Road, Opposite Four Square Gospe...  Lagos   \n",
       "\n",
       "        End Point Geo-location  \n",
       "0          6.5224642,3.3734771  \n",
       "1          6.5529208,3.3880537  \n",
       "2           6.4332852,3.420224  \n",
       "3  6.610150699999999,3.2571244  \n",
       "4  6.602106699999999,3.3055263  "
      ]
     },
     "execution_count": 120,
     "metadata": {},
     "output_type": "execute_result"
    }
   ],
   "source": [
    "pd.read_csv('orders_clean.csv').head()"
   ]
  },
  {
   "cell_type": "markdown",
   "metadata": {},
   "source": [
    "## Part II: Checking and Updating Geo, adding new columns, etc.:"
   ]
  },
  {
   "cell_type": "markdown",
   "metadata": {},
   "source": [
    "Now that we have cleaned the data, we can now improve it by making it more geo-friendly. I will create a geometry column with the POINT(long, lat) so it can be visualised in python, but also a separate lat, long coordinate list so that it can be visualised in Tableau."
   ]
  },
  {
   "cell_type": "markdown",
   "metadata": {},
   "source": [
    "**Lat, Long Coords:**"
   ]
  },
  {
   "cell_type": "code",
   "execution_count": 179,
   "metadata": {},
   "outputs": [],
   "source": [
    "orders = pd.read_csv('orders_clean.csv')"
   ]
  },
  {
   "cell_type": "code",
   "execution_count": 184,
   "metadata": {},
   "outputs": [],
   "source": [
    "orders['End Point Geo-location'] = orders['End Point Geo-location'].astype(str)"
   ]
  },
  {
   "cell_type": "code",
   "execution_count": 188,
   "metadata": {},
   "outputs": [],
   "source": [
    "lat = []\n",
    "long = []\n",
    "for i in orders['End Point Geo-location'].to_list():\n",
    "    a  = i.split(',')\n",
    "    lat.append(float(a[0]))\n",
    "    long.append(float(a[1]))\n",
    "orders['lat'] = lat\n",
    "orders['long'] = long"
   ]
  },
  {
   "cell_type": "code",
   "execution_count": 189,
   "metadata": {},
   "outputs": [
    {
     "data": {
      "text/html": [
       "<div>\n",
       "<style scoped>\n",
       "    .dataframe tbody tr th:only-of-type {\n",
       "        vertical-align: middle;\n",
       "    }\n",
       "\n",
       "    .dataframe tbody tr th {\n",
       "        vertical-align: top;\n",
       "    }\n",
       "\n",
       "    .dataframe thead th {\n",
       "        text-align: right;\n",
       "    }\n",
       "</style>\n",
       "<table border=\"1\" class=\"dataframe\">\n",
       "  <thead>\n",
       "    <tr style=\"text-align: right;\">\n",
       "      <th></th>\n",
       "      <th>Order ID</th>\n",
       "      <th>Blood Type</th>\n",
       "      <th>Hospital ID</th>\n",
       "      <th>BloodBank ID</th>\n",
       "      <th>Unix Time</th>\n",
       "      <th>Cross Matching</th>\n",
       "      <th>QTY</th>\n",
       "      <th>Address</th>\n",
       "      <th>State</th>\n",
       "      <th>End Point Geo-location</th>\n",
       "      <th>lat</th>\n",
       "      <th>long</th>\n",
       "    </tr>\n",
       "  </thead>\n",
       "  <tbody>\n",
       "    <tr>\n",
       "      <td>0</td>\n",
       "      <td>1</td>\n",
       "      <td>B+</td>\n",
       "      <td>2154730</td>\n",
       "      <td>1</td>\n",
       "      <td>1466034200</td>\n",
       "      <td>Yes</td>\n",
       "      <td>5</td>\n",
       "      <td>Military Hospital, Igbogbi, Lagos</td>\n",
       "      <td>Lagos</td>\n",
       "      <td>6.5224642,3.3734771</td>\n",
       "      <td>6.522464</td>\n",
       "      <td>3.373477</td>\n",
       "    </tr>\n",
       "    <tr>\n",
       "      <td>1</td>\n",
       "      <td>2</td>\n",
       "      <td>O+</td>\n",
       "      <td>1250873</td>\n",
       "      <td>1</td>\n",
       "      <td>1466726300</td>\n",
       "      <td>Yes</td>\n",
       "      <td>1</td>\n",
       "      <td>General Hospital Road, Araromi, Gbagada, Lagos</td>\n",
       "      <td>Lagos</td>\n",
       "      <td>6.5529208,3.3880537</td>\n",
       "      <td>6.552921</td>\n",
       "      <td>3.388054</td>\n",
       "    </tr>\n",
       "    <tr>\n",
       "      <td>2</td>\n",
       "      <td>3</td>\n",
       "      <td>O+</td>\n",
       "      <td>9215804</td>\n",
       "      <td>2104756</td>\n",
       "      <td>1472048755</td>\n",
       "      <td>No</td>\n",
       "      <td>5</td>\n",
       "      <td>12 Idowu Martins Street Victoria Island</td>\n",
       "      <td>Lagos</td>\n",
       "      <td>6.4332852,3.420224</td>\n",
       "      <td>6.433285</td>\n",
       "      <td>3.420224</td>\n",
       "    </tr>\n",
       "    <tr>\n",
       "      <td>3</td>\n",
       "      <td>4</td>\n",
       "      <td>O+</td>\n",
       "      <td>6873095</td>\n",
       "      <td>0</td>\n",
       "      <td>1469059200</td>\n",
       "      <td>Yes</td>\n",
       "      <td>2</td>\n",
       "      <td>28, david ogundele street, olude compound b/stop</td>\n",
       "      <td>Lagos</td>\n",
       "      <td>6.610150699999999,3.2571244</td>\n",
       "      <td>6.610151</td>\n",
       "      <td>3.257124</td>\n",
       "    </tr>\n",
       "    <tr>\n",
       "      <td>4</td>\n",
       "      <td>5</td>\n",
       "      <td>O+</td>\n",
       "      <td>1890375</td>\n",
       "      <td>0</td>\n",
       "      <td>1469059201</td>\n",
       "      <td>Yes</td>\n",
       "      <td>2</td>\n",
       "      <td>155, Akowonjo Road, Opposite Four Square Gospe...</td>\n",
       "      <td>Lagos</td>\n",
       "      <td>6.602106699999999,3.3055263</td>\n",
       "      <td>6.602107</td>\n",
       "      <td>3.305526</td>\n",
       "    </tr>\n",
       "  </tbody>\n",
       "</table>\n",
       "</div>"
      ],
      "text/plain": [
       "   Order ID Blood Type  Hospital ID  BloodBank ID   Unix Time Cross Matching  \\\n",
       "0         1         B+      2154730             1  1466034200            Yes   \n",
       "1         2         O+      1250873             1  1466726300            Yes   \n",
       "2         3         O+      9215804       2104756  1472048755             No   \n",
       "3         4         O+      6873095             0  1469059200            Yes   \n",
       "4         5         O+      1890375             0  1469059201            Yes   \n",
       "\n",
       "   QTY                                           Address   State  \\\n",
       "0    5                  Military Hospital, Igbogbi, Lagos  Lagos   \n",
       "1    1     General Hospital Road, Araromi, Gbagada, Lagos  Lagos   \n",
       "2    5            12 Idowu Martins Street Victoria Island  Lagos   \n",
       "3    2   28, david ogundele street, olude compound b/stop  Lagos   \n",
       "4    2  155, Akowonjo Road, Opposite Four Square Gospe...  Lagos   \n",
       "\n",
       "        End Point Geo-location       lat      long  \n",
       "0          6.5224642,3.3734771  6.522464  3.373477  \n",
       "1          6.5529208,3.3880537  6.552921  3.388054  \n",
       "2           6.4332852,3.420224  6.433285  3.420224  \n",
       "3  6.610150699999999,3.2571244  6.610151  3.257124  \n",
       "4  6.602106699999999,3.3055263  6.602107  3.305526  "
      ]
     },
     "execution_count": 189,
     "metadata": {},
     "output_type": "execute_result"
    }
   ],
   "source": [
    "orders.head()"
   ]
  },
  {
   "cell_type": "code",
   "execution_count": 190,
   "metadata": {},
   "outputs": [],
   "source": [
    "orders.to_csv('orders_final.csv')"
   ]
  }
 ],
 "metadata": {
  "kernelspec": {
   "display_name": "Python 3",
   "language": "python",
   "name": "python3"
  },
  "language_info": {
   "codemirror_mode": {
    "name": "ipython",
    "version": 3
   },
   "file_extension": ".py",
   "mimetype": "text/x-python",
   "name": "python",
   "nbconvert_exporter": "python",
   "pygments_lexer": "ipython3",
   "version": "3.6.7"
  }
 },
 "nbformat": 4,
 "nbformat_minor": 2
}
